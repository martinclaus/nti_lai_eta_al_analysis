{
 "cells": [
  {
   "cell_type": "code",
   "execution_count": 1,
   "id": "921db544-eccd-4f29-a398-6e4c85e23e30",
   "metadata": {},
   "outputs": [],
   "source": [
    "import xarray as xr\n",
    "import numpy as np\n",
    "import matplotlib.pyplot as plt\n",
    "from matplotlib.pyplot import MultipleLocator\n",
    "import scipy.stats\n",
    "\n",
    "from utils import (\n",
    "    detrend, monthly_anomalies, interp_coords, reg_slope\n",
    ")"
   ]
  },
  {
   "cell_type": "code",
   "execution_count": 2,
   "id": "fe56a3e2-d845-4ddf-ad01-4b23c18d869a",
   "metadata": {},
   "outputs": [],
   "source": [
    "t_grid_file = xr.open_zarr('data/ORCA025.L46-KFS006_TroPA.zarr/')"
   ]
  },
  {
   "cell_type": "code",
   "execution_count": 3,
   "id": "b96ba1da-ce52-47c5-be80-69569fd71767",
   "metadata": {},
   "outputs": [],
   "source": [
    "eq = dict(lat=0)\n",
    "eq_band = dict(lat=slice(-5, 5))\n",
    "nino3_region = dict(lon=slice(210, 270), **eq_band)\n",
    "nino4_region = dict(lon=slice(160, 210), **eq_band)\n",
    "tpart= dict(time=slice('1979-01','2019-12'))"
   ]
  },
  {
   "cell_type": "markdown",
   "id": "7994d831-3ae1-48f1-8784-a8694fdcfeab",
   "metadata": {},
   "source": [
    "## Prepare Data\n",
    "### Nemo SSH "
   ]
  },
  {
   "cell_type": "code",
   "execution_count": 4,
   "id": "d553523e-de6d-4654-adb9-75933d2123be",
   "metadata": {},
   "outputs": [],
   "source": [
    "ssh_mon_anom = detrend(\n",
    "    monthly_anomalies(\n",
    "        t_grid_file.sossheig.sel(**eq_band, **tpart)\n",
    "    ).compute()\n",
    ")\n",
    "ssh_eq = ssh_mon_anom.sel(**eq)"
   ]
  },
  {
   "cell_type": "markdown",
   "id": "be8d4730-04a5-4a76-aafc-9b7fd2c803e1",
   "metadata": {},
   "source": [
    "### D20 "
   ]
  },
  {
   "cell_type": "code",
   "execution_count": 5,
   "id": "22451eed-dea5-46b2-a0b6-2bed987c40a8",
   "metadata": {},
   "outputs": [],
   "source": [
    "d20_mon = monthly_anomalies(\n",
    "        t_grid_file.d20.sel(**eq_band, **tpart)\n",
    ").compute()"
   ]
  },
  {
   "cell_type": "code",
   "execution_count": 6,
   "id": "d169b3f7-bd0b-4513-b8e1-107b2e69007d",
   "metadata": {},
   "outputs": [],
   "source": [
    "d20_mon_anom = detrend(d20_mon.where(\n",
    "        (~d20_mon.isnull()).all(\"time\"),\n",
    "        0.\n",
    "    )\n",
    ").where(\n",
    "    (~d20_mon.isnull()).all(\"time\")\n",
    ")\n",
    "\n",
    "d20_eq = d20_mon_anom.sel(**eq)"
   ]
  },
  {
   "cell_type": "markdown",
   "id": "2e0a73bf-d68f-48a5-aa3d-6e0668ed55b2",
   "metadata": {
    "tags": []
   },
   "source": [
    "### NLTI"
   ]
  },
  {
   "cell_type": "code",
   "execution_count": 7,
   "id": "bbbbd17a-59f7-4d3a-9cd6-21dd57eefab5",
   "metadata": {},
   "outputs": [],
   "source": [
    "slope = reg_slope(d20_mon_anom, ssh_mon_anom, dim=\"time\") \n",
    "\n",
    "nlti = (\n",
    "    ssh_mon_anom - slope * d20_mon_anom\n",
    ").rename(\"NLTI\")"
   ]
  },
  {
   "cell_type": "code",
   "execution_count": 8,
   "id": "b5fa2533-d864-437d-91fa-cfe26ab5e0d1",
   "metadata": {},
   "outputs": [],
   "source": [
    "nlti_n4 = nlti.sel(\n",
    "    **nino4_region\n",
    ").mean(['lat','lon']).rename('nlti_n4').compute()"
   ]
  },
  {
   "cell_type": "markdown",
   "id": "36e095e6-d8d4-4c9b-a865-50065226a0a8",
   "metadata": {
    "tags": []
   },
   "source": [
    "### SST "
   ]
  },
  {
   "cell_type": "code",
   "execution_count": 9,
   "id": "dfb12044-1f5d-4142-b13e-3a9e64609463",
   "metadata": {},
   "outputs": [],
   "source": [
    "sst_mon_anom = monthly_anomalies(\n",
    "    t_grid_file.sosstsst.sel(**tpart)\n",
    ")\n",
    "\n",
    "n3 = sst_mon_anom.sel(\n",
    "    **nino3_region\n",
    ").mean(('lon', 'lat')).rename('sst_n3')\n",
    "\n",
    "n4 = sst_mon_anom.sel(\n",
    "    **nino4_region\n",
    ").mean(('lon', 'lat')).rename('sst_n3')"
   ]
  },
  {
   "cell_type": "markdown",
   "id": "f4f0a9ec-f935-41d6-896a-2d0dd4f6a57a",
   "metadata": {},
   "source": [
    "### From Ashok2007 EMI: CP "
   ]
  },
  {
   "cell_type": "code",
   "execution_count": 10,
   "id": "d6b920bc-8d22-458f-9e8e-93e6093b1faa",
   "metadata": {},
   "outputs": [],
   "source": [
    "a_region = dict(lon=slice(165, 220), lat=slice(-10, 10))\n",
    "b_region = dict(lon=slice(250, 290), lat=slice(-15, 5))\n",
    "c_region = dict(lon=slice(125, 145), lat=slice(-10, 20))"
   ]
  },
  {
   "cell_type": "code",
   "execution_count": 11,
   "id": "a75e0191-0c21-4c23-b264-e1f4a0f1abe1",
   "metadata": {},
   "outputs": [],
   "source": [
    "aindex = sst_mon_anom.sel(**a_region).mean(('lon', 'lat'))\n",
    "bindex = sst_mon_anom.sel(**b_region).mean(('lon', 'lat'))\n",
    "cindex = sst_mon_anom.sel(**c_region).mean(('lon', 'lat'))\n",
    "emi = aindex - 0.5 * bindex - 0.5 * cindex"
   ]
  },
  {
   "cell_type": "markdown",
   "id": "8800b9be-6089-472b-8b7a-9fac061c1278",
   "metadata": {},
   "source": [
    "### From Ren and Jin(2010) ict:EP / iwp:CP "
   ]
  },
  {
   "cell_type": "code",
   "execution_count": 12,
   "id": "13409be8-8f7b-4bbe-b9a2-ac9e3268e18f",
   "metadata": {},
   "outputs": [],
   "source": [
    "aa = n3 * n4\n",
    "alpha = np.where(aa > 0, 0.4, 0)\n",
    "Nwp = n4 - alpha * n3"
   ]
  },
  {
   "cell_type": "markdown",
   "id": "abc6fda2-597a-47de-aed2-e8e4e534d549",
   "metadata": {},
   "source": [
    "## 2.detrend and correlation"
   ]
  },
  {
   "cell_type": "code",
   "execution_count": 13,
   "id": "392ac446-e396-4670-b4ba-58d3fe44691d",
   "metadata": {},
   "outputs": [],
   "source": [
    "ds = xr.Dataset(\n",
    "    {\"nlti\": nlti_n4, \"n4\": n4, \"emi\": emi, \"Nwp\": Nwp}\n",
    ").compute()"
   ]
  },
  {
   "cell_type": "code",
   "execution_count": 14,
   "id": "0de22423-48ae-44e9-98e1-56b4bb2e9ae9",
   "metadata": {},
   "outputs": [],
   "source": [
    "ds_dt = detrend(ds)"
   ]
  },
  {
   "cell_type": "markdown",
   "id": "4b9500de-b526-4754-891c-b25842e8fa1b",
   "metadata": {},
   "source": [
    "## Write output"
   ]
  },
  {
   "cell_type": "code",
   "execution_count": 15,
   "id": "0242edbf-5c10-4cbe-b816-6109d93927dd",
   "metadata": {},
   "outputs": [],
   "source": [
    "!rm -rf data_fig4.zarr\n",
    "ds_dt.to_zarr('data_fig4.zarr/');"
   ]
  },
  {
   "cell_type": "code",
   "execution_count": null,
   "id": "8d40f1cd-f41f-4178-bf08-9065ace5d578",
   "metadata": {},
   "outputs": [],
   "source": []
  }
 ],
 "metadata": {
  "kernelspec": {
   "display_name": "Python 3 (ipykernel)",
   "language": "python",
   "name": "python3"
  },
  "language_info": {
   "codemirror_mode": {
    "name": "ipython",
    "version": 3
   },
   "file_extension": ".py",
   "mimetype": "text/x-python",
   "name": "python",
   "nbconvert_exporter": "python",
   "pygments_lexer": "ipython3",
   "version": "3.8.13"
  }
 },
 "nbformat": 4,
 "nbformat_minor": 5
}
