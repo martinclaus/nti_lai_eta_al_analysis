{
 "cells": [
  {
   "cell_type": "code",
   "execution_count": 1,
   "id": "ac189e24-a6f5-4195-99b0-3ac3e0b11c02",
   "metadata": {},
   "outputs": [],
   "source": [
    "import xarray as xr\n",
    "import numpy as np\n",
    "import matplotlib.pyplot as plt\n",
    "# from scipy import stats\n",
    "\n",
    "from utils import (\n",
    "    detrend, monthly_anomalies,reg_slope,\n",
    "    standardize, corr_with_ttest\n",
    ")"
   ]
  },
  {
   "cell_type": "code",
   "execution_count": 2,
   "id": "3b3d4251-f4fa-4c2b-9eab-c50c128181b4",
   "metadata": {},
   "outputs": [],
   "source": [
    "eq = dict(lat=0,lon=slice(140,260))\n",
    "\n",
    "timea = slice('1958-01','2019-11')\n",
    "timeb = slice('1993-01','2019-11')"
   ]
  },
  {
   "cell_type": "code",
   "execution_count": 3,
   "id": "e15b03b0-990d-4770-ae91-6bc873c9179c",
   "metadata": {},
   "outputs": [],
   "source": [
    "t_grid_file = xr.open_zarr('data/ORCA025.L46-KFS006_TroPA.zarr')"
   ]
  },
  {
   "cell_type": "code",
   "execution_count": 4,
   "id": "48714563-4747-4b1e-806e-214eccba5907",
   "metadata": {},
   "outputs": [],
   "source": [
    "def nlti(ssh,d20):\n",
    "    slope = reg_slope(d20, ssh, dim=\"time\")\n",
    "\n",
    "    sshmd20 = (\n",
    "        ssh - slope * d20\n",
    "    ).rename(\"NLTI\")\n",
    "\n",
    "    nlti=detrend(\n",
    "        sshmd20\n",
    "    )\n",
    "    return nlti"
   ]
  },
  {
   "cell_type": "markdown",
   "id": "7b6fe6d1-bd8c-4f1e-ba8f-b53aea35f7d7",
   "metadata": {
    "tags": []
   },
   "source": [
    "### 1. Prepare data\n",
    "#### 1.1 SSH "
   ]
  },
  {
   "cell_type": "code",
   "execution_count": 5,
   "id": "0da12a54-95b4-404b-9e75-e7c2f5a202b3",
   "metadata": {},
   "outputs": [],
   "source": [
    "ssh_o = t_grid_file.sossheig.sel(**eq)\n",
    "ssh_o.attrs[\"units\"] = \"m\"\n",
    "ssh_a = monthly_anomalies(ssh_o.sel(time=timea))\n",
    "ssh_b = monthly_anomalies(ssh_o.sel(time=timeb))"
   ]
  },
  {
   "cell_type": "markdown",
   "id": "6f3197c2-362b-4940-b6b3-57a9594166ba",
   "metadata": {},
   "source": [
    "#### 1.2 D20 "
   ]
  },
  {
   "cell_type": "code",
   "execution_count": 6,
   "id": "06b6f323-af58-49e9-85ca-5260912a78ac",
   "metadata": {},
   "outputs": [],
   "source": [
    "d20_o = -1 * t_grid_file.d20.sel(**eq)"
   ]
  },
  {
   "cell_type": "code",
   "execution_count": 7,
   "id": "e5b747fb-28c8-4879-81e7-e981fc199374",
   "metadata": {},
   "outputs": [],
   "source": [
    "d20_a = monthly_anomalies(d20_o.sel(time=timea))\n",
    "d20_b = monthly_anomalies(d20_o.sel(time=timeb))"
   ]
  },
  {
   "cell_type": "markdown",
   "id": "f40e94fd-6c0a-420b-9d5c-24253e74a703",
   "metadata": {},
   "source": [
    "#### 1.3 linear data (NEMO fitting) "
   ]
  },
  {
   "cell_type": "code",
   "execution_count": 8,
   "id": "80316204-4431-47a7-84cc-9d4b8897d75c",
   "metadata": {},
   "outputs": [],
   "source": [
    "eta = (\n",
    "    xr.open_zarr(\"data/lmmm_eta_nemo.zarr/\")\n",
    "    .eta\n",
    "    .interp(lat=0)\n",
    "    .sel(lon=slice(140,260))\n",
    "    .sel(mode=slice(1, 3))\n",
    ")"
   ]
  },
  {
   "cell_type": "code",
   "execution_count": 9,
   "id": "289b194f-4517-4175-b319-73abd87b14e0",
   "metadata": {},
   "outputs": [],
   "source": [
    "eta_a = eta.assign_coords(\n",
    "    {'time':(eta.time-np.timedelta64(1314900,'s')).data}\n",
    ").interp(time=ssh_a.time).fillna(0.)"
   ]
  },
  {
   "cell_type": "code",
   "execution_count": 10,
   "id": "d8326f18-b446-48a0-8fa3-1b8c61654d0d",
   "metadata": {},
   "outputs": [],
   "source": [
    "eta_b = eta_a.sel(time = timeb)"
   ]
  },
  {
   "cell_type": "markdown",
   "id": "b4ee7c34-e03b-4618-aa99-2c224bb8d6bd",
   "metadata": {
    "tags": []
   },
   "source": [
    "#### 1.4 fitting (to NEMO)"
   ]
  },
  {
   "cell_type": "code",
   "execution_count": 11,
   "id": "01681fb5-8a5e-40ba-88d4-dbf100eb26d5",
   "metadata": {},
   "outputs": [],
   "source": [
    "def fitting(ssha,eta_x):\n",
    "    mask = ~(\n",
    "        np.isnan(ssha).all('time')\n",
    "        | np.isnan(eta_x.sel(mode=1)).all('time')\n",
    "    )\n",
    "    a = np.vstack(\n",
    "        [\n",
    "            eta_x.sel(mode=k)[:, mask].values.flatten()\n",
    "            for k in (1,2,3)\n",
    "        ]\n",
    "    ).T\n",
    "    a_inv = np.linalg.pinv(a)\n",
    "\n",
    "    b = ssha[:, mask].values.flatten()\n",
    "\n",
    "    coeff = a_inv.dot(b)\n",
    "    coeff = xr.DataArray(\n",
    "        coeff,\n",
    "        coords=(eta_x.sel(mode=slice(1, 3)).mode,),\n",
    "        dims=(\"mode\",)\n",
    "    )\n",
    "    return coeff"
   ]
  },
  {
   "cell_type": "code",
   "execution_count": 12,
   "id": "7c29908d-6eae-459f-9c60-0b8d0107db05",
   "metadata": {
    "tags": []
   },
   "outputs": [],
   "source": [
    "coeff_a = fitting(ssh_a, eta_a)\n",
    "coeff_b = fitting(ssh_b, eta_b)"
   ]
  },
  {
   "cell_type": "code",
   "execution_count": 13,
   "id": "4ca21060-968e-4f91-b6aa-c282df447f2e",
   "metadata": {
    "tags": []
   },
   "outputs": [],
   "source": [
    "sshli_a = (coeff_a * eta_a).sum(\"mode\").compute()\n",
    "sshli_b = (coeff_b * eta_b).sum(\"mode\").compute()"
   ]
  },
  {
   "cell_type": "markdown",
   "id": "7536648d-3929-4cbe-a3c0-24e05b1b3746",
   "metadata": {},
   "source": [
    "#### 1.5 Fitting to AVISO "
   ]
  },
  {
   "cell_type": "code",
   "execution_count": 14,
   "id": "67f00d4b-2354-415a-aff1-82b523ec1fe4",
   "metadata": {},
   "outputs": [],
   "source": [
    "eta_aviso = (\n",
    "    xr.open_zarr(\"data/lmmm_eta_woa13.zarr/\")\n",
    "    .eta\n",
    "    .interp(lat=0)\n",
    "    .sel(lon=slice(140,260))\n",
    "    .sel(mode=slice(1, 3))\n",
    ")"
   ]
  },
  {
   "cell_type": "code",
   "execution_count": 15,
   "id": "6b9ed966-f165-4f2b-8cf2-eb83bec1fad6",
   "metadata": {},
   "outputs": [],
   "source": [
    "sla = xr.open_dataset(\n",
    "    'data/aviso199301_202002.nc'\n",
    ").sla.interp(lat=0., lon=eta.lon).fillna(0.)"
   ]
  },
  {
   "cell_type": "code",
   "execution_count": 16,
   "id": "7d6f5c43-1daa-4abb-af56-8fd308165e44",
   "metadata": {},
   "outputs": [],
   "source": [
    "ssh_d = monthly_anomalies(sla.sel(time=timeb))"
   ]
  },
  {
   "cell_type": "code",
   "execution_count": 17,
   "id": "40259c71-7fbd-46f0-86e7-148085c94b06",
   "metadata": {},
   "outputs": [],
   "source": [
    "eta_d = eta_aviso.assign_coords(\n",
    "    {'time':(eta.time-np.timedelta64(1314900,'s')).data}\n",
    ").interp(time=ssh_b.time).fillna(0.)"
   ]
  },
  {
   "cell_type": "code",
   "execution_count": 18,
   "id": "45db3059-17d7-4291-b2ac-8c72f1ed9b82",
   "metadata": {
    "tags": []
   },
   "outputs": [],
   "source": [
    "coeff_d = fitting(ssh_d, eta_d)"
   ]
  },
  {
   "cell_type": "code",
   "execution_count": 19,
   "id": "3b2f637b-1b0d-4752-b7e9-0d0d4d5ce074",
   "metadata": {
    "tags": []
   },
   "outputs": [],
   "source": [
    "sshli_d = (coeff_d * eta_d).sum(\"mode\")"
   ]
  },
  {
   "cell_type": "markdown",
   "id": "5e8e3008-fd37-43f8-a09e-c472da805abc",
   "metadata": {
    "tags": []
   },
   "source": [
    "### 2. Fig4a: Correlation"
   ]
  },
  {
   "cell_type": "code",
   "execution_count": 20,
   "id": "1fcabfd3-de2f-4189-9a50-a84f4a709004",
   "metadata": {},
   "outputs": [],
   "source": [
    "dseta = xr.Dataset({\"sshne\": ssh_a, \"sshli\": sshli_a, \"d20ne\": d20_a.fillna(0.)})\n",
    "dseta_dt = detrend(dseta.compute())"
   ]
  },
  {
   "cell_type": "code",
   "execution_count": 21,
   "id": "24634360-7bd4-4f1d-af4a-e412cced4ebf",
   "metadata": {},
   "outputs": [],
   "source": [
    "corr_ssha_sshlia, corr_ssha_sshlia_low, corr_ssha_sshlia_up = corr_with_ttest(dseta_dt.sshne, dseta_dt.sshli, sig=0.95)\n",
    "corr_d20a_sshlia, corr_d20a_sshlia_low, corr_d20a_sshlia_up = corr_with_ttest((-1)*dseta_dt.d20ne, dseta_dt.sshli, sig=0.95)"
   ]
  },
  {
   "cell_type": "code",
   "execution_count": 22,
   "id": "a6cc768e-751d-416e-8c01-708762776a17",
   "metadata": {},
   "outputs": [
    {
     "data": {
      "text/plain": [
       "<matplotlib.legend.Legend at 0x7f635bf12490>"
      ]
     },
     "execution_count": 22,
     "metadata": {},
     "output_type": "execute_result"
    },
    {
     "data": {
      "image/png": "[encoded data removed]",
      "text/plain": [
       "<Figure size 576x216 with 1 Axes>"
      ]
     },
     "metadata": {
      "needs_background": "light"
     },
     "output_type": "display_data"
    }
   ],
   "source": [
    "fig = plt.figure(figsize=(8,3))\n",
    "corr_ssha_sshlia.plot(label='SSH')\n",
    "corr_d20a_sshlia.plot(label='D20',color='black', linestyle='--')\n",
    "corr_ssha_sshlia_up.plot()\n",
    "corr_d20a_sshlia_up.plot()\n",
    "plt.title('(a) Correlation between linear SSH and NEMO SSH/D20')\n",
    "plt.xlabel('longitude');\n",
    "plt.legend()"
   ]
  },
  {
   "cell_type": "markdown",
   "id": "b5f317e2-64c2-4775-a7bd-de3f36513fda",
   "metadata": {
    "tags": []
   },
   "source": [
    "### 3. Fig4bcd: Create NLTIs and test for FigS4"
   ]
  },
  {
   "cell_type": "code",
   "execution_count": 23,
   "id": "f2a5de22-1c15-4c47-a250-55f580562771",
   "metadata": {
    "tags": []
   },
   "outputs": [],
   "source": [
    "ssh_b = detrend(ssh_b.compute())\n",
    "d20_b = detrend(d20_b.compute())\n",
    "d20_c = -1*detrend(sshli_b.compute())\n",
    "ssh_d = detrend(ssh_d.compute())\n",
    "d20_d = -1*detrend(sshli_d.compute())"
   ]
  },
  {
   "cell_type": "code",
   "execution_count": 24,
   "id": "3dbedbc9-a4b9-4e95-820e-7969d0203c99",
   "metadata": {},
   "outputs": [],
   "source": [
    "nlti_nemo = nlti(ssh_b,d20_b)\n",
    "nlti_nemolin = nlti(ssh_b,d20_c)\n",
    "nlti_aviso = nlti(ssh_d,d20_d)"
   ]
  },
  {
   "cell_type": "code",
   "execution_count": 25,
   "id": "c43335df-7f40-4824-b071-4abed0234abe",
   "metadata": {},
   "outputs": [],
   "source": [
    "corr_nlti_nemo_nlti_nemolin, corr_nlti_nemo_nlti_nemolin_up, corr_nlti_nemo_nlti_nemolin_low = corr_with_ttest(nlti_nemo, nlti_nemolin, sig=0.95)\n",
    "corr_nlti_nemolin_nlti_aviso, corr_nlti_nemolin_nlti_aviso_up, corr_nlti_nemolin_nlti_aviso_low = corr_with_ttest(nlti_nemolin, nlti_aviso, sig=0.95)\n",
    "corr_nlti_aviso_nlti_nemo, corr_nlti_aviso_nlti_nemo_up, corr_nlti_aviso_nlti_nemo_low = corr_with_ttest(nlti_aviso, nlti_nemo, sig=0.95)"
   ]
  },
  {
   "cell_type": "code",
   "execution_count": 26,
   "id": "18b40514-50dd-46d8-9bcb-a091af60879c",
   "metadata": {},
   "outputs": [
    {
     "data": {
      "image/png": "[encoded data removed]",
      "text/plain": [
       "<Figure size 432x288 with 1 Axes>"
      ]
     },
     "metadata": {
      "needs_background": "light"
     },
     "output_type": "display_data"
    }
   ],
   "source": [
    "corr_nlti_nemo_nlti_nemolin.plot(label='NEMO-NLTI vs. NEMOlin-NLTI')\n",
    "corr_nlti_nemolin_nlti_aviso.plot(label='NEMOlin-NLTI vs. AVISO-NLTI')\n",
    "corr_nlti_aviso_nlti_nemo.plot(label='AVISO-NLTI vs. NEMO-NLTI')\n",
    "corr_nlti_nemo_nlti_nemolin_up.plot(c='C0', ls=\":\")\n",
    "corr_nlti_nemolin_nlti_aviso_up.plot(c='C1', ls=\":\")\n",
    "corr_nlti_aviso_nlti_nemo_up.plot(c='C2', ls=\":\")\n",
    "\n",
    "plt.legend(loc=7,bbox_to_anchor=(1, 0.65))\n",
    "plt.ylim(-0.2,1)\n",
    "plt.xlim(140,260)\n",
    "plt.ylabel(\"\");\n",
    "plt.xlabel('longitude');\n",
    "plt.axhline(y=0., c=\"0.5\", ls=\":\", lw=3)\n",
    "plt.grid(color='grey',linestyle = ':',axis='y')"
   ]
  },
  {
   "cell_type": "markdown",
   "id": "0a70c9b7-8120-4ace-8202-8f02d699a5db",
   "metadata": {},
   "source": [
    "## Write output"
   ]
  },
  {
   "cell_type": "code",
   "execution_count": 27,
   "id": "eb289ad5-84ff-4574-8540-23c2cc143cb0",
   "metadata": {},
   "outputs": [],
   "source": [
    "!rm -rf data_fig4.zarr\n",
    "xr.Dataset(\n",
    "    dict(\n",
    "        corr_ssha_sshlia=corr_ssha_sshlia,\n",
    "        corr_d20a_sshlia=corr_d20a_sshlia,\n",
    "        corr_ssha_sshlia_up=corr_ssha_sshlia_up,\n",
    "        corr_d20a_sshlia_up=corr_d20a_sshlia_up,\n",
    "        corr_ssha_sshlia_low=corr_ssha_sshlia_low,\n",
    "        corr_d20a_sshlia_low=corr_d20a_sshlia_low,\n",
    "        nlti_nemo=nlti_nemo,\n",
    "        nlti_nemolin=nlti_nemolin,\n",
    "        nlti_aviso=nlti_aviso\n",
    "    )\n",
    ").to_zarr(\"data_fig4.zarr\");"
   ]
  },
  {
   "cell_type": "code",
   "execution_count": 29,
   "id": "bb13ee18-e0a1-4dfa-b809-0b012a27b9d6",
   "metadata": {},
   "outputs": [],
   "source": [
    "!rm -rf data_figS5.zarr\n",
    "xr.Dataset(\n",
    "    dict(\n",
    "        nlti_nemo_var=nlti_nemo.var(\"time\", ddof=1),\n",
    "        nlti_nemolin_var=nlti_nemolin.var(\"time\", ddof=1),\n",
    "        nlti_aviso_var=nlti_aviso.var(\"time\", ddof=1),\n",
    "        corr_nlti_nemo_nlti_nemolin=corr_nlti_nemo_nlti_nemolin,\n",
    "        corr_nlti_nemolin_nlti_aviso=corr_nlti_nemolin_nlti_aviso,\n",
    "        corr_nlti_aviso_nlti_nemo=corr_nlti_aviso_nlti_nemo,\n",
    "    )\n",
    ").to_zarr(\"data_figS5.zarr\");"
   ]
  },
  {
   "cell_type": "code",
   "execution_count": null,
   "id": "898b95d7-4c67-45b9-9539-6dfffa1af222",
   "metadata": {},
   "outputs": [],
   "source": []
  }
 ],
 "metadata": {
  "kernelspec": {
   "display_name": "Python 3 (ipykernel)",
   "language": "python",
   "name": "python3"
  },
  "language_info": {
   "codemirror_mode": {
    "name": "ipython",
    "version": 3
   },
   "file_extension": ".py",
   "mimetype": "text/x-python",
   "name": "python",
   "nbconvert_exporter": "python",
   "pygments_lexer": "ipython3",
   "version": "3.8.13"
  }
 },
 "nbformat": 4,
 "nbformat_minor": 5
}
