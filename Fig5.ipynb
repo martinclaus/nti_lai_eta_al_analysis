{
 "cells": [
  {
   "cell_type": "code",
   "execution_count": 1,
   "metadata": {},
   "outputs": [],
   "source": [
    "import xarray as xr\n",
    "import numpy as np\n",
    "import matplotlib.pyplot as plt\n",
    "\n",
    "from utils import detrend, reg_slope, monthly_anomalies, standardize"
   ]
  },
  {
   "cell_type": "code",
   "execution_count": 2,
   "metadata": {},
   "outputs": [],
   "source": [
    "def emi_ashok2007(sst_anomaly: xr.DataArray):\n",
    "    a_region = dict(lon=slice(165, 220), lat=slice(-10, 10))\n",
    "    b_region = dict(lon=slice(250, 290), lat=slice(-15, 5))\n",
    "    c_region = dict(lon=slice(125, 145), lat=slice(-10, 20))\n",
    "\n",
    "    aindex = sst_mon_anom.sel(**a_region).mean(('lon', 'lat'))\n",
    "    bindex = sst_mon_anom.sel(**b_region).mean(('lon', 'lat'))\n",
    "    cindex = sst_mon_anom.sel(**c_region).mean(('lon', 'lat'))\n",
    "    emi = (aindex - 0.5 * bindex - 0.5 * cindex)\n",
    "\n",
    "    return emi"
   ]
  },
  {
   "cell_type": "code",
   "execution_count": 3,
   "metadata": {},
   "outputs": [],
   "source": [
    "def n_wp_cp(nino3, nino4):\n",
    "    alpha = np.where(nino3 * nino4 > 0, 0.4, 0.)\n",
    "    ict = nino3 - alpha * nino4\n",
    "    iwp = (nino4 - alpha * nino3)\n",
    "    return iwp"
   ]
  },
  {
   "cell_type": "markdown",
   "metadata": {
    "tags": []
   },
   "source": [
    "### 1. Based on NEMO data"
   ]
  },
  {
   "cell_type": "code",
   "execution_count": 4,
   "metadata": {
    "tags": []
   },
   "outputs": [],
   "source": [
    "t_grid_file = xr.open_zarr(\"data/ORCA025.L46-KFS006_TroPA.zarr\")"
   ]
  },
  {
   "cell_type": "code",
   "execution_count": 5,
   "metadata": {},
   "outputs": [],
   "source": [
    "eq = dict(lat=0)\n",
    "nino3_region = dict(lon=slice(210, 270), lat=slice(-5, 5))\n",
    "nino4_region = dict(lon=slice(160, 210), lat=slice(-5, 5))"
   ]
  },
  {
   "cell_type": "markdown",
   "metadata": {
    "tags": []
   },
   "source": [
    "#### 1.1 SSH "
   ]
  },
  {
   "cell_type": "code",
   "execution_count": 6,
   "metadata": {},
   "outputs": [],
   "source": [
    "ssh_eq = detrend(\n",
    "    monthly_anomalies(\n",
    "        t_grid_file.sossheig.sel(**eq)\n",
    "    ).compute()\n",
    ")"
   ]
  },
  {
   "cell_type": "markdown",
   "metadata": {},
   "source": [
    "#### 1.2 D20 "
   ]
  },
  {
   "cell_type": "code",
   "execution_count": 7,
   "metadata": {},
   "outputs": [],
   "source": [
    "d20_mon = monthly_anomalies(\n",
    "        t_grid_file.d20.sel(**eq)\n",
    ").compute()\n",
    "d20_eq = detrend(d20_mon.where(\n",
    "        (~d20_mon.isnull()).all(\"time\"),\n",
    "        0.\n",
    "    )\n",
    ").where(\n",
    "    (~d20_mon.isnull()).all(\"time\")\n",
    ")\n",
    "d20_eq.attrs.update({\"long_name\": \"D20 anomaly\", \"units\": \"m\"})"
   ]
  },
  {
   "cell_type": "markdown",
   "metadata": {},
   "source": [
    "#### 1.3 NLTI"
   ]
  },
  {
   "cell_type": "code",
   "execution_count": 8,
   "metadata": {},
   "outputs": [],
   "source": [
    "slope = reg_slope(d20_eq, ssh_eq, dim=\"time\")\n",
    "\n",
    "sshmd20 = (\n",
    "    ssh_eq - slope * d20_eq\n",
    ").rename(\"SSHmD20\")\n",
    "\n",
    "nlti_n4eq = sshmd20.sel(lon=nino4_region[\"lon\"]).mean('lon').rename('nlti_n4eq').compute()"
   ]
  },
  {
   "cell_type": "markdown",
   "metadata": {},
   "source": [
    "#### 1.4 Nino4 SST (only equator) "
   ]
  },
  {
   "cell_type": "code",
   "execution_count": 9,
   "metadata": {
    "tags": []
   },
   "outputs": [],
   "source": [
    "sst_mon_anom = monthly_anomalies(t_grid_file.sosstsst)\n",
    "n3 = sst_mon_anom.sel(**nino3_region).mean(('lon', 'lat')).rename('sst_n3').compute()\n",
    "n4 = sst_mon_anom.sel(**nino4_region).mean(('lon', 'lat')).rename('sst_n4').compute()\n",
    "n4eq = sst_mon_anom.sel(**nino4_region).interp(lat=0.).mean('lon').rename('sst_n4').compute()"
   ]
  },
  {
   "cell_type": "markdown",
   "metadata": {},
   "source": [
    "#### 1.5 From Ashok2007 EMI"
   ]
  },
  {
   "cell_type": "code",
   "execution_count": 10,
   "metadata": {},
   "outputs": [],
   "source": [
    "emi = emi_ashok2007(sst_mon_anom).rename(\"emi\").compute()"
   ]
  },
  {
   "cell_type": "markdown",
   "metadata": {},
   "source": [
    "#### 1.6 From Ren and Jin(2010)  Nwp:CP "
   ]
  },
  {
   "cell_type": "code",
   "execution_count": 11,
   "metadata": {},
   "outputs": [],
   "source": [
    "iwp = n_wp_cp(n3, n4).rename(\"iwp\").compute()"
   ]
  },
  {
   "cell_type": "markdown",
   "metadata": {},
   "source": [
    "#### 1.7 sum "
   ]
  },
  {
   "cell_type": "code",
   "execution_count": 12,
   "metadata": {},
   "outputs": [],
   "source": [
    "ds_model = xr.Dataset(\n",
    "    {\n",
    "        \"nlti\": nlti_n4eq,\n",
    "        \"n4\": n4eq,\n",
    "        \"emi\": emi,\n",
    "        \"iwp\": iwp\n",
    "    }\n",
    ")  "
   ]
  },
  {
   "cell_type": "markdown",
   "metadata": {},
   "source": [
    "### 2. Based on Hadley data \n",
    "#### 2.1 Nino4 SST (only equator)"
   ]
  },
  {
   "cell_type": "code",
   "execution_count": 13,
   "metadata": {},
   "outputs": [],
   "source": [
    "ssth_o = xr.open_dataset('data/HadISST_sst.nc').sst[:,::-1,:].rename(\n",
    "   {   \n",
    "       'latitude':'lat',\n",
    "       'longitude':'lon', \n",
    "   }\n",
    ").sel(time=slice(\"1958-01-16\", \"2019-12-17\"))"
   ]
  },
  {
   "cell_type": "code",
   "execution_count": 14,
   "metadata": {},
   "outputs": [],
   "source": [
    "ssth_all = ssth_o.assign_coords(\n",
    "    {'lon': (ssth_o.lon+ 360) % 360.}\n",
    ").reindex(lon= np.arange(360)+0.5)"
   ]
  },
  {
   "cell_type": "code",
   "execution_count": 15,
   "metadata": {},
   "outputs": [],
   "source": [
    "ssth_a = monthly_anomalies(ssth_all)"
   ]
  },
  {
   "cell_type": "code",
   "execution_count": 16,
   "metadata": {},
   "outputs": [],
   "source": [
    "h_n3 = ssth_a.sel(**nino3_region).mean(('lon', 'lat')).rename('h_n3').compute()\n",
    "h_n4 = ssth_a.sel(**nino4_region).mean(('lon', 'lat')).rename('h_n4').compute()"
   ]
  },
  {
   "cell_type": "code",
   "execution_count": 17,
   "metadata": {},
   "outputs": [],
   "source": [
    "h_n4eq = ssth_a.interp(lat=0.).sel(lon=slice(160, 210)).mean('lon').rename('h_n4eq').compute()"
   ]
  },
  {
   "cell_type": "markdown",
   "metadata": {},
   "source": [
    "#### 2.2 From Ashok2007 EMI: CP "
   ]
  },
  {
   "cell_type": "code",
   "execution_count": 18,
   "metadata": {},
   "outputs": [],
   "source": [
    "h_emi = emi_ashok2007(ssth_a).compute()"
   ]
  },
  {
   "cell_type": "markdown",
   "metadata": {},
   "source": [
    "#### 2.3 From Ren and Jin(2010) ict:EP / iwp:CP "
   ]
  },
  {
   "cell_type": "code",
   "execution_count": 19,
   "metadata": {},
   "outputs": [],
   "source": [
    "h_iwp = n_wp_cp(h_n3, h_n4)"
   ]
  },
  {
   "cell_type": "markdown",
   "metadata": {},
   "source": [
    "#### 2.4 sum "
   ]
  },
  {
   "cell_type": "code",
   "execution_count": 20,
   "metadata": {},
   "outputs": [],
   "source": [
    "h_ds = xr.Dataset({\"h_n4\": h_n4eq, \"h_emi\": h_emi, \"h_iwp\":h_iwp}) "
   ]
  },
  {
   "cell_type": "markdown",
   "metadata": {
    "tags": []
   },
   "source": [
    "### 3. 21y-Running-variance"
   ]
  },
  {
   "cell_type": "code",
   "execution_count": 21,
   "metadata": {},
   "outputs": [],
   "source": [
    "ds = ds_model.merge(h_ds)"
   ]
  },
  {
   "cell_type": "code",
   "execution_count": 22,
   "metadata": {},
   "outputs": [],
   "source": [
    "ds_var = detrend(\n",
    "    ds.rolling(time=21*12, center=True).construct(\"window_dim\").dropna(\"time\"),\n",
    "    dim=\"window_dim\"\n",
    ").var(\"window_dim\", ddof=1).compute()\n",
    "\n",
    "ds_var = ds_var.rename(\n",
    "    {\n",
    "        k: f\"{k}_var\"\n",
    "        for k in list(ds_var.variables.keys()) if k not in (\"time\", \"lat\")\n",
    "    }\n",
    ")"
   ]
  },
  {
   "cell_type": "markdown",
   "metadata": {},
   "source": [
    "## Write output"
   ]
  },
  {
   "cell_type": "code",
   "execution_count": 23,
   "metadata": {},
   "outputs": [],
   "source": [
    "!rm -rf data_fig5.zarr\n",
    "ds_var.to_zarr('data_fig5.zarr/');"
   ]
  },
  {
   "cell_type": "code",
   "execution_count": null,
   "metadata": {},
   "outputs": [],
   "source": []
  }
 ],
 "metadata": {
  "kernelspec": {
   "display_name": "Python 3 (ipykernel)",
   "language": "python",
   "name": "python3"
  },
  "language_info": {
   "codemirror_mode": {
    "name": "ipython",
    "version": 3
   },
   "file_extension": ".py",
   "mimetype": "text/x-python",
   "name": "python",
   "nbconvert_exporter": "python",
   "pygments_lexer": "ipython3",
   "version": "3.8.13"
  }
 },
 "nbformat": 4,
 "nbformat_minor": 4
}
