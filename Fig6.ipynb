{
 "cells": [
  {
   "cell_type": "code",
   "execution_count": 1,
   "id": "495e1089-6fde-46a8-a7ad-e9401138dc51",
   "metadata": {},
   "outputs": [],
   "source": [
    "import xarray as xr\n",
    "import numpy as np\n",
    "import matplotlib.pyplot as plt\n",
    "from utils import (\n",
    "    detrend, monthly_anomalies, corr_with_ttest\n",
    ")"
   ]
  },
  {
   "cell_type": "code",
   "execution_count": 2,
   "id": "0bb6f6b6-74f0-45c3-b614-bdd4892f3412",
   "metadata": {},
   "outputs": [],
   "source": [
    "eq = dict(lat=0,lon=slice(140,260))\n",
    "time = slice('1958-01','2019-11')"
   ]
  },
  {
   "cell_type": "code",
   "execution_count": 3,
   "id": "f7a5009f-1a75-470d-8d27-6e186f987437",
   "metadata": {},
   "outputs": [],
   "source": [
    "t_grid_file = xr.open_zarr('data/ORCA025.L46-KFS006_TroPA.zarr')"
   ]
  },
  {
   "cell_type": "markdown",
   "id": "af160da3-d69f-486c-b3e8-015484b410da",
   "metadata": {
    "tags": []
   },
   "source": [
    "### Nemo SSH "
   ]
  },
  {
   "cell_type": "code",
   "execution_count": 4,
   "id": "98e3220b-30b8-4218-8cc5-e114f038cde2",
   "metadata": {},
   "outputs": [],
   "source": [
    "ssh_nemo = monthly_anomalies(t_grid_file.sossheig.sel(**eq)).compute()"
   ]
  },
  {
   "cell_type": "markdown",
   "id": "ab263694-8692-4a4a-94be-5081a9452f92",
   "metadata": {},
   "source": [
    "### D20 from Nemo "
   ]
  },
  {
   "cell_type": "code",
   "execution_count": 5,
   "id": "3632067c-ef0e-4108-9c97-60df2dc8b8f3",
   "metadata": {},
   "outputs": [],
   "source": [
    "d20_nemo = monthly_anomalies(\n",
    "    t_grid_file.d20.sel(**eq)\n",
    ").fillna(0.).compute()"
   ]
  },
  {
   "cell_type": "markdown",
   "id": "ea8c5ec4-939e-4a39-9bce-476bcd1150f7",
   "metadata": {},
   "source": [
    "### SSH from linear model "
   ]
  },
  {
   "cell_type": "code",
   "execution_count": 6,
   "id": "8fca2e7b-0176-44f3-afea-0b7a1f00f63e",
   "metadata": {},
   "outputs": [],
   "source": [
    "eta = (\n",
    "    xr.open_zarr(\"data/lmmm_eta_nemo.zarr/\")\n",
    "    .eta\n",
    "    .interp(lat=0.).sel(lon=eq[\"lon\"])\n",
    ")"
   ]
  },
  {
   "cell_type": "code",
   "execution_count": 7,
   "id": "827c472a-785c-4929-9953-d668be5368ae",
   "metadata": {},
   "outputs": [],
   "source": [
    "eta_a = eta.assign_coords(\n",
    "    {'time':(eta.time-np.timedelta64(1314900,'s')).data}\n",
    ").interp(time=ssh_nemo.time).fillna(0.).compute()"
   ]
  },
  {
   "cell_type": "code",
   "execution_count": 8,
   "id": "9b3c6c0f-349d-44e3-8cc3-6fed69a1e80e",
   "metadata": {},
   "outputs": [],
   "source": [
    "def fitting(ssha,eta_x):\n",
    "    mask = ~(\n",
    "        np.isnan(ssha).all('time')\n",
    "        | np.isnan(eta_x.sel(mode=1)).all('time')\n",
    "    )\n",
    "    a = np.vstack(\n",
    "        [\n",
    "            eta_x.sel(mode=k)[:, mask].values.flatten()\n",
    "            for k in (1,2,3)\n",
    "        ]\n",
    "    ).T\n",
    "    a_inv = np.linalg.pinv(a)\n",
    "\n",
    "    b = ssha[:, mask].values.flatten()\n",
    "\n",
    "    coeff = a_inv.dot(b)\n",
    "    coeff = xr.DataArray(\n",
    "        coeff,\n",
    "        coords=(eta_x.sel(mode=slice(1, 3)).mode,),\n",
    "        dims=(\"mode\",)\n",
    "    )\n",
    "    return coeff"
   ]
  },
  {
   "cell_type": "code",
   "execution_count": 9,
   "id": "2319fb54-e195-4197-aeee-8b1423ba1edb",
   "metadata": {},
   "outputs": [],
   "source": [
    "coeff = fitting(ssh_nemo,eta_a)"
   ]
  },
  {
   "cell_type": "code",
   "execution_count": 10,
   "id": "4b8ee93c-439b-40ac-a07a-ce691c3919b4",
   "metadata": {},
   "outputs": [],
   "source": [
    "ssh_lin = (coeff * eta_a).sum(\"mode\")"
   ]
  },
  {
   "cell_type": "markdown",
   "id": "9018c214-c12d-4188-86bc-4f30c3370fe9",
   "metadata": {
    "tags": []
   },
   "source": [
    "### 2. Fig6a: Correlation"
   ]
  },
  {
   "cell_type": "code",
   "execution_count": 11,
   "id": "ba23caab-066e-4081-b0c9-bb16e5221bcd",
   "metadata": {},
   "outputs": [],
   "source": [
    "dseta = xr.Dataset({\"sshne\": ssh_nemo, \"sshli\": ssh_lin, \"d20ne\": d20_nemo})\n",
    "dseta_dt = detrend(dseta.compute())"
   ]
  },
  {
   "cell_type": "code",
   "execution_count": 12,
   "id": "d33c4082-1a37-4ad5-a462-91efd0ec2a74",
   "metadata": {},
   "outputs": [],
   "source": [
    "corr_ssha_sshlia, corr_ssha_sshlia_low, corr_ssha_sshlia_up = corr_with_ttest(dseta_dt.sshne, dseta_dt.sshli, sig=0.95)\n",
    "corr_d20a_sshlia, corr_d20a_sshlia_low, corr_d20a_sshlia_up = corr_with_ttest(dseta_dt.d20ne, dseta_dt.sshli, sig=0.95)"
   ]
  },
  {
   "cell_type": "code",
   "execution_count": 13,
   "id": "3bd49f01-39f1-442f-b32f-5f2cfbfdd6a6",
   "metadata": {},
   "outputs": [
    {
     "data": {
      "text/plain": [
       "<matplotlib.legend.Legend at 0x7f3e64f85460>"
      ]
     },
     "execution_count": 13,
     "metadata": {},
     "output_type": "execute_result"
    },
    {
     "data": {
      "image/png": "[encoded data removed]",
      "text/plain": [
       "<Figure size 576x216 with 1 Axes>"
      ]
     },
     "metadata": {
      "needs_background": "light"
     },
     "output_type": "display_data"
    }
   ],
   "source": [
    "fig = plt.figure(figsize=(8,3))\n",
    "corr_ssha_sshlia.plot(label='SSH')\n",
    "corr_d20a_sshlia.plot(label='D20',color='black', linestyle='--')\n",
    "corr_ssha_sshlia_up.plot()\n",
    "corr_d20a_sshlia_up.plot()\n",
    "plt.title('(a) Correlation between linear SSH and NEMO SSH/D20')\n",
    "plt.xlabel('longitude');\n",
    "plt.legend()"
   ]
  },
  {
   "cell_type": "markdown",
   "id": "e9e41c15-1acc-4d3f-b530-37f6f4c7876b",
   "metadata": {},
   "source": [
    "## Write output "
   ]
  },
  {
   "cell_type": "code",
   "execution_count": 14,
   "id": "0fbe0426-f20d-408b-a810-91e1696eb675",
   "metadata": {},
   "outputs": [],
   "source": [
    "ds = xr.Dataset(\n",
    "    dict(\n",
    "        corr_ssha_sshlia=corr_ssha_sshlia,\n",
    "        corr_d20a_sshlia=corr_d20a_sshlia,\n",
    "        corr_ssha_sshlia_up=corr_ssha_sshlia_up,\n",
    "        corr_d20a_sshlia_up=corr_d20a_sshlia_up,\n",
    "        corr_ssha_sshlia_low=corr_ssha_sshlia_low,\n",
    "        corr_d20a_sshlia_low=corr_d20a_sshlia_low,\n",
    "        sshne=ssh_nemo,\n",
    "        sshli=ssh_lin,\n",
    "        d20ne=d20_nemo\n",
    "    )\n",
    ")"
   ]
  },
  {
   "cell_type": "code",
   "execution_count": 15,
   "id": "8383f599-b056-4f1b-af27-e34ffe12e312",
   "metadata": {},
   "outputs": [],
   "source": [
    "!rm -rf data_fig6.zarr\n",
    "ds.to_zarr(\"data_fig6.zarr\");"
   ]
  },
  {
   "cell_type": "code",
   "execution_count": null,
   "id": "bd1c29d6-7bf8-4dfb-b7b3-ff861b51b272",
   "metadata": {},
   "outputs": [],
   "source": []
  }
 ],
 "metadata": {
  "kernelspec": {
   "display_name": "Python 3 (ipykernel)",
   "language": "python",
   "name": "python3"
  },
  "language_info": {
   "codemirror_mode": {
    "name": "ipython",
    "version": 3
   },
   "file_extension": ".py",
   "mimetype": "text/x-python",
   "name": "python",
   "nbconvert_exporter": "python",
   "pygments_lexer": "ipython3",
   "version": "3.8.13"
  }
 },
 "nbformat": 4,
 "nbformat_minor": 5
}
