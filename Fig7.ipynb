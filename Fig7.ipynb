{
 "cells": [
  {
   "cell_type": "code",
   "execution_count": 1,
   "id": "ac189e24-a6f5-4195-99b0-3ac3e0b11c02",
   "metadata": {},
   "outputs": [],
   "source": [
    "import xarray as xr\n",
    "import numpy as np\n",
    "import matplotlib.pyplot as plt\n",
    "# from scipy import stats\n",
    "\n",
    "from utils import (\n",
    "    detrend, monthly_anomalies,reg_slope,\n",
    "    standardize, corr_with_ttest\n",
    ")"
   ]
  },
  {
   "cell_type": "code",
   "execution_count": 2,
   "id": "11c0b522-33a0-438c-8a29-74d4bdfd2727",
   "metadata": {},
   "outputs": [],
   "source": [
    "eq = dict(lat=0,lon=slice(140,260))\n",
    "\n",
    "time = slice('1993-01','2019-11')"
   ]
  },
  {
   "cell_type": "code",
   "execution_count": 3,
   "id": "e15b03b0-990d-4770-ae91-6bc873c9179c",
   "metadata": {},
   "outputs": [],
   "source": [
    "t_grid_file = xr.open_zarr('data/ORCA025.L46-KFS006_TroPA.zarr')"
   ]
  },
  {
   "cell_type": "code",
   "execution_count": 4,
   "id": "48714563-4747-4b1e-806e-214eccba5907",
   "metadata": {},
   "outputs": [],
   "source": [
    "def nlti(ssh,d20):\n",
    "    slope = reg_slope(d20, ssh, dim=\"time\")\n",
    "\n",
    "    sshmd20 = (\n",
    "        ssh - slope * d20\n",
    "    ).rename(\"NLTI\")\n",
    "\n",
    "    nlti=detrend(\n",
    "        sshmd20\n",
    "    )\n",
    "    return nlti"
   ]
  },
  {
   "cell_type": "markdown",
   "id": "7b6fe6d1-bd8c-4f1e-ba8f-b53aea35f7d7",
   "metadata": {
    "tags": []
   },
   "source": [
    "### 1. Prepare data\n",
    "#### 1.1 SSH "
   ]
  },
  {
   "cell_type": "code",
   "execution_count": 5,
   "id": "95885e41-6a13-4037-8e74-8c5386d5b1ae",
   "metadata": {},
   "outputs": [],
   "source": [
    "ssh_o = t_grid_file.sossheig.sel(**eq)\n",
    "ssh_o.attrs[\"units\"] = \"m\"\n",
    "ssh_ab = monthly_anomalies(ssh_o.sel(time=time))"
   ]
  },
  {
   "cell_type": "markdown",
   "id": "6f3197c2-362b-4940-b6b3-57a9594166ba",
   "metadata": {},
   "source": [
    "#### 1.2 D20 "
   ]
  },
  {
   "cell_type": "code",
   "execution_count": 6,
   "id": "06b6f323-af58-49e9-85ca-5260912a78ac",
   "metadata": {},
   "outputs": [],
   "source": [
    "d20_o = -1 * t_grid_file.d20.sel(**eq)"
   ]
  },
  {
   "cell_type": "code",
   "execution_count": 7,
   "id": "8abe1ab2-c701-4b45-9246-420c6610c761",
   "metadata": {},
   "outputs": [],
   "source": [
    "d20_a = monthly_anomalies(d20_o.sel(time=time))"
   ]
  },
  {
   "cell_type": "markdown",
   "id": "f40e94fd-6c0a-420b-9d5c-24253e74a703",
   "metadata": {},
   "source": [
    "#### 1.3 linear data (NEMO fitting) "
   ]
  },
  {
   "cell_type": "code",
   "execution_count": 8,
   "id": "80316204-4431-47a7-84cc-9d4b8897d75c",
   "metadata": {},
   "outputs": [],
   "source": [
    "eta = (\n",
    "    xr.open_zarr(\"data/lmmm_eta_nemo.zarr/\")\n",
    "    .eta\n",
    "    .interp(lat=0)\n",
    "    .sel(lon=slice(140,260))\n",
    "    .sel(mode=slice(1, 3))\n",
    ")"
   ]
  },
  {
   "cell_type": "code",
   "execution_count": 9,
   "id": "289b194f-4517-4175-b319-73abd87b14e0",
   "metadata": {},
   "outputs": [],
   "source": [
    "eta_b = eta.assign_coords(\n",
    "    {'time':(eta.time-np.timedelta64(1314900,'s')).data}\n",
    ").interp(time=ssh_ab.time).fillna(0.)"
   ]
  },
  {
   "cell_type": "markdown",
   "id": "b4ee7c34-e03b-4618-aa99-2c224bb8d6bd",
   "metadata": {
    "tags": []
   },
   "source": [
    "#### 1.4 fitting (to NEMO)"
   ]
  },
  {
   "cell_type": "code",
   "execution_count": 10,
   "id": "01681fb5-8a5e-40ba-88d4-dbf100eb26d5",
   "metadata": {},
   "outputs": [],
   "source": [
    "def fitting(ssha,eta_x):\n",
    "    mask = ~(\n",
    "        np.isnan(ssha).all('time')\n",
    "        | np.isnan(eta_x.sel(mode=1)).all('time')\n",
    "    )\n",
    "    a = np.vstack(\n",
    "        [\n",
    "            eta_x.sel(mode=k)[:, mask].values.flatten()\n",
    "            for k in (1,2,3)\n",
    "        ]\n",
    "    ).T\n",
    "    a_inv = np.linalg.pinv(a)\n",
    "\n",
    "    b = ssha[:, mask].values.flatten()\n",
    "\n",
    "    coeff = a_inv.dot(b)\n",
    "    coeff = xr.DataArray(\n",
    "        coeff,\n",
    "        coords=(eta_x.sel(mode=slice(1, 3)).mode,),\n",
    "        dims=(\"mode\",)\n",
    "    )\n",
    "    return coeff"
   ]
  },
  {
   "cell_type": "code",
   "execution_count": 11,
   "id": "7c29908d-6eae-459f-9c60-0b8d0107db05",
   "metadata": {
    "tags": []
   },
   "outputs": [],
   "source": [
    "coeff_b = fitting(ssh_ab, eta_b)"
   ]
  },
  {
   "cell_type": "code",
   "execution_count": 12,
   "id": "4ca21060-968e-4f91-b6aa-c282df447f2e",
   "metadata": {
    "tags": []
   },
   "outputs": [],
   "source": [
    "sshli_b = (coeff_b * eta_b).sum(\"mode\").compute()"
   ]
  },
  {
   "cell_type": "markdown",
   "id": "7536648d-3929-4cbe-a3c0-24e05b1b3746",
   "metadata": {},
   "source": [
    "#### 1.5 Fitting to AVISO "
   ]
  },
  {
   "cell_type": "code",
   "execution_count": 13,
   "id": "67f00d4b-2354-415a-aff1-82b523ec1fe4",
   "metadata": {},
   "outputs": [],
   "source": [
    "eta_aviso = (\n",
    "    xr.open_zarr(\"data/lmmm_eta_woa13.zarr/\")\n",
    "    .eta\n",
    "    .interp(lat=0)\n",
    "    .sel(lon=slice(140,260))\n",
    "    .sel(mode=slice(1, 3))\n",
    ")"
   ]
  },
  {
   "cell_type": "code",
   "execution_count": 14,
   "id": "6b9ed966-f165-4f2b-8cf2-eb83bec1fad6",
   "metadata": {},
   "outputs": [],
   "source": [
    "sla = xr.open_dataset(\n",
    "    'data/aviso199301_202002.nc'\n",
    ").sla.interp(lat=0., lon=eta.lon).fillna(0.)"
   ]
  },
  {
   "cell_type": "code",
   "execution_count": 15,
   "id": "7d6f5c43-1daa-4abb-af56-8fd308165e44",
   "metadata": {},
   "outputs": [],
   "source": [
    "ssh_c = monthly_anomalies(sla.sel(time=time))"
   ]
  },
  {
   "cell_type": "code",
   "execution_count": 16,
   "id": "40259c71-7fbd-46f0-86e7-148085c94b06",
   "metadata": {},
   "outputs": [],
   "source": [
    "eta_c = eta_aviso.assign_coords(\n",
    "    {'time':(eta.time-np.timedelta64(1314900,'s')).data}\n",
    ").interp(time=ssh_ab.time).fillna(0.)"
   ]
  },
  {
   "cell_type": "code",
   "execution_count": 17,
   "id": "45db3059-17d7-4291-b2ac-8c72f1ed9b82",
   "metadata": {
    "tags": []
   },
   "outputs": [],
   "source": [
    "coeff_c = fitting(ssh_c, eta_c)"
   ]
  },
  {
   "cell_type": "code",
   "execution_count": 18,
   "id": "3b2f637b-1b0d-4752-b7e9-0d0d4d5ce074",
   "metadata": {
    "tags": []
   },
   "outputs": [],
   "source": [
    "sshli_c = (coeff_c * eta_c).sum(\"mode\")"
   ]
  },
  {
   "cell_type": "markdown",
   "id": "b5f317e2-64c2-4775-a7bd-de3f36513fda",
   "metadata": {
    "tags": []
   },
   "source": [
    "### 3. Fig7: Create NLTIs"
   ]
  },
  {
   "cell_type": "code",
   "execution_count": 19,
   "id": "f2a5de22-1c15-4c47-a250-55f580562771",
   "metadata": {
    "tags": []
   },
   "outputs": [],
   "source": [
    "ssh_ab = detrend(ssh_ab.compute())\n",
    "d20_a = detrend(d20_a.compute())\n",
    "d20_b = -1*detrend(sshli_b.compute())\n",
    "ssh_c = detrend(ssh_c.compute())\n",
    "d20_c = -1*detrend(sshli_c.compute())"
   ]
  },
  {
   "cell_type": "code",
   "execution_count": 20,
   "id": "3dbedbc9-a4b9-4e95-820e-7969d0203c99",
   "metadata": {},
   "outputs": [],
   "source": [
    "nlti_nemo = nlti(ssh_ab,d20_a)\n",
    "nlti_nemolin = nlti(ssh_ab,d20_b)\n",
    "nlti_aviso = nlti(ssh_c,d20_c)"
   ]
  },
  {
   "cell_type": "markdown",
   "id": "0a70c9b7-8120-4ace-8202-8f02d699a5db",
   "metadata": {},
   "source": [
    "## Write output"
   ]
  },
  {
   "cell_type": "code",
   "execution_count": 21,
   "id": "eb289ad5-84ff-4574-8540-23c2cc143cb0",
   "metadata": {},
   "outputs": [],
   "source": [
    "!rm -rf data_fig7.zarr\n",
    "xr.Dataset(\n",
    "    dict(\n",
    "        nlti_nemo=nlti_nemo,\n",
    "        nlti_nemolin=nlti_nemolin,\n",
    "        nlti_aviso=nlti_aviso\n",
    "    )\n",
    ").to_zarr(\"data_fig7.zarr\");"
   ]
  },
  {
   "cell_type": "code",
   "execution_count": null,
   "id": "898b95d7-4c67-45b9-9539-6dfffa1af222",
   "metadata": {},
   "outputs": [],
   "source": []
  }
 ],
 "metadata": {
  "kernelspec": {
   "display_name": "Python 3 (ipykernel)",
   "language": "python",
   "name": "python3"
  },
  "language_info": {
   "codemirror_mode": {
    "name": "ipython",
    "version": 3
   },
   "file_extension": ".py",
   "mimetype": "text/x-python",
   "name": "python",
   "nbconvert_exporter": "python",
   "pygments_lexer": "ipython3",
   "version": "3.8.13"
  }
 },
 "nbformat": 4,
 "nbformat_minor": 5
}
