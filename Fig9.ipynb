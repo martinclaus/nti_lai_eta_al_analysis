{
 "cells": [
  {
   "cell_type": "code",
   "execution_count": 1,
   "id": "d993d908-8f80-4c1c-8f50-fe8399e44d90",
   "metadata": {},
   "outputs": [],
   "source": [
    "import xarray as xr\n",
    "import numpy as np\n",
    "\n",
    "from utils import (\n",
    "    detrend, monthly_anomalies, reg_slope,corr_with_ttest\n",
    ")"
   ]
  },
  {
   "cell_type": "code",
   "execution_count": 2,
   "id": "2dc2489b-9da3-4941-aa7c-62c69e2b1836",
   "metadata": {},
   "outputs": [],
   "source": [
    "t_grid_file = xr.open_zarr('data/ORCA025.L46-KFS006_TroPA.zarr')"
   ]
  },
  {
   "cell_type": "code",
   "execution_count": 3,
   "id": "063aba54-a38a-4d0d-8ec8-82c5131b9cb4",
   "metadata": {},
   "outputs": [],
   "source": [
    "eq = dict(lat=0, lon=slice(140,260))"
   ]
  },
  {
   "cell_type": "markdown",
   "id": "24dce844-d112-4925-a3ff-2e7a61134b93",
   "metadata": {
    "tags": []
   },
   "source": [
    "#### 1.1 D20 "
   ]
  },
  {
   "cell_type": "code",
   "execution_count": 4,
   "id": "fed4e4eb-085c-4c82-83a8-d1f057bd2412",
   "metadata": {
    "tags": []
   },
   "outputs": [],
   "source": [
    "d20_eq = monthly_anomalies(\n",
    "     t_grid_file.d20.sel(**eq)\n",
    ").fillna(0.).compute()\n",
    "d20_eq.attrs.update({\"long_name\": \"D20 anomaly\", \"units\": \"m\", \"positive\": \"down\"})"
   ]
  },
  {
   "cell_type": "markdown",
   "id": "975a3185-1412-48a8-9ed0-663917a05212",
   "metadata": {},
   "source": [
    "#### 1.2 SST"
   ]
  },
  {
   "cell_type": "code",
   "execution_count": 5,
   "id": "55fd54b0-37e4-48a3-b065-dbea5803498a",
   "metadata": {},
   "outputs": [],
   "source": [
    "sst_eq = monthly_anomalies(\n",
    "    t_grid_file.sosstsst.sel(**eq)\n",
    ").rename(\"SST\")"
   ]
  },
  {
   "cell_type": "markdown",
   "id": "9db0d711-ac57-4d2b-bcd0-1d5a5a7e6a14",
   "metadata": {},
   "source": [
    "#### 1.3 SSH"
   ]
  },
  {
   "cell_type": "code",
   "execution_count": 6,
   "id": "5ceb7b7d-a56f-4d5c-8697-1f231160147b",
   "metadata": {},
   "outputs": [],
   "source": [
    "ssh_eq = monthly_anomalies(\n",
    "    t_grid_file.sossheig.sel(**eq))\n",
    "\n",
    "ssh_eq.attrs.update({\"long_name\": \"SSH anomaly\", \"units\": \"m\"})"
   ]
  },
  {
   "cell_type": "code",
   "execution_count": 7,
   "id": "15083a17-9332-42f3-82e1-b9b4fdadf148",
   "metadata": {},
   "outputs": [],
   "source": [
    "ds = xr.Dataset({\"SST\": sst_eq, \"D20\": d20_eq, \"SSH\": ssh_eq})"
   ]
  },
  {
   "cell_type": "code",
   "execution_count": 8,
   "id": "e931cd5e-6cef-460a-9ce3-6774248bb840",
   "metadata": {},
   "outputs": [],
   "source": [
    "ds_dt = detrend(\n",
    "    ds.rolling(time=21*12,center=True).construct(\"window_dim\").dropna('time').compute(),\n",
    "    dim='window_dim',\n",
    ")"
   ]
  },
  {
   "cell_type": "markdown",
   "id": "0f98563d-88f3-436c-b84e-f3b298c99d5e",
   "metadata": {},
   "source": [
    "#### 2.1 Figure 8a: Correlation(SST,D20)"
   ]
  },
  {
   "cell_type": "code",
   "execution_count": 9,
   "id": "0ca135f5-9e99-4968-8e0e-ab2aad744bce",
   "metadata": {},
   "outputs": [],
   "source": [
    "corr, c_low, c_up = corr_with_ttest(\n",
    "    ds_dt.SST, ds_dt.D20, dim=\"window_dim\"\n",
    ")"
   ]
  },
  {
   "cell_type": "code",
   "execution_count": 10,
   "id": "a8f08460-50fe-430b-98e7-06ee8fc02119",
   "metadata": {},
   "outputs": [],
   "source": [
    "non_sig = xr.where(np.abs(corr) <= c_up, 1., np.nan)"
   ]
  },
  {
   "cell_type": "markdown",
   "id": "7ca7d771-0b72-4c9c-9792-d22e52846af2",
   "metadata": {},
   "source": [
    "#### 2.2 Figure 8b:21y-running regression coefficient "
   ]
  },
  {
   "cell_type": "code",
   "execution_count": 11,
   "id": "2eb5121f-88cf-43d4-bb24-06aeed5e9e88",
   "metadata": {},
   "outputs": [],
   "source": [
    "slope = reg_slope(ds_dt.D20, ds_dt.SSH, dim=\"window_dim\")"
   ]
  },
  {
   "cell_type": "code",
   "execution_count": 12,
   "id": "e6c30858-3b15-4c81-8f3b-41d422b3f04e",
   "metadata": {},
   "outputs": [],
   "source": [
    "corr_ssh_d20, c_low_ssh_d20, c_up_ssh_d20 = corr_with_ttest(\n",
    "    ds_dt.SSH, ds_dt.D20, dim=\"window_dim\"\n",
    ")"
   ]
  },
  {
   "cell_type": "code",
   "execution_count": 13,
   "id": "9d38f563-1170-4174-8872-e959106c81ce",
   "metadata": {},
   "outputs": [],
   "source": [
    "non_sig_ssh_d20 = xr.where(np.abs(corr_ssh_d20) <= c_up, 1., np.nan)"
   ]
  },
  {
   "cell_type": "markdown",
   "id": "2e676eea-177a-4315-924f-b163b5fbbe20",
   "metadata": {},
   "source": [
    "## Write output"
   ]
  },
  {
   "cell_type": "code",
   "execution_count": 14,
   "id": "417bb327-7f28-47ab-8c1e-32325935413e",
   "metadata": {},
   "outputs": [],
   "source": [
    "!rm -rf data_fig9.zarr\n",
    "\n",
    "xr.Dataset(\n",
    "    dict(\n",
    "        corr=corr,\n",
    "        non_sig=non_sig,\n",
    "        slope=slope,     \n",
    "    )\n",
    ").to_zarr('data_fig9.zarr');"
   ]
  },
  {
   "cell_type": "code",
   "execution_count": null,
   "id": "889fd09e-079e-445c-b3a9-f3d796f57088",
   "metadata": {},
   "outputs": [],
   "source": []
  }
 ],
 "metadata": {
  "kernelspec": {
   "display_name": "Python 3 (ipykernel)",
   "language": "python",
   "name": "python3"
  },
  "language_info": {
   "codemirror_mode": {
    "name": "ipython",
    "version": 3
   },
   "file_extension": ".py",
   "mimetype": "text/x-python",
   "name": "python",
   "nbconvert_exporter": "python",
   "pygments_lexer": "ipython3",
   "version": "3.8.13"
  }
 },
 "nbformat": 4,
 "nbformat_minor": 5
}
