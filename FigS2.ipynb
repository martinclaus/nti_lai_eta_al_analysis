{
 "cells": [
  {
   "cell_type": "code",
   "execution_count": 1,
   "id": "e97708ce-f461-42ab-905b-761f2d4b778b",
   "metadata": {
    "tags": []
   },
   "outputs": [],
   "source": [
    "import xarray as xr\n",
    "import numpy as np\n",
    "import matplotlib.pyplot as plt\n",
    "\n",
    "from utils import (\n",
    "    detrend, monthly_anomalies,\n",
    "    standardize, reg_slope, corr_with_ttest,\n",
    ")"
   ]
  },
  {
   "cell_type": "markdown",
   "id": "6847e2a3-7ef2-4279-b87e-a6c0016cbc18",
   "metadata": {
    "tags": []
   },
   "source": [
    "### D20 "
   ]
  },
  {
   "cell_type": "code",
   "execution_count": 2,
   "id": "7094cbcc-67d7-4124-a7f7-f98dc531ca27",
   "metadata": {},
   "outputs": [],
   "source": [
    "t_grid_file1 = xr.open_zarr('data/ORCA025.L46-KFS006_TroPA.zarr')"
   ]
  },
  {
   "cell_type": "code",
   "execution_count": 3,
   "id": "f4506b5a-439e-482e-b8e7-0594f5dba6e4",
   "metadata": {},
   "outputs": [],
   "source": [
    "eq = dict(lat=0,lon=slice(140,260))"
   ]
  },
  {
   "cell_type": "code",
   "execution_count": 4,
   "id": "813781ec-25dd-442c-af75-d9343e36ac2e",
   "metadata": {
    "tags": []
   },
   "outputs": [],
   "source": [
    "d20_mon_anom = monthly_anomalies(\n",
    "    t_grid_file1.d20.sel(**eq)\n",
    ")\n",
    "d20_mon_anom.attrs.update({\"long_name\": \"D20 anomaly\", \"units\": \"m\", \"positive\": \"down\"})\n",
    "\n",
    "d20_eq = detrend(\n",
    "    d20_mon_anom.fillna(0.).compute()\n",
    ").rename('D20')"
   ]
  },
  {
   "cell_type": "code",
   "execution_count": 5,
   "id": "c033720e-e8c3-4754-bdc2-85de36958422",
   "metadata": {},
   "outputs": [],
   "source": [
    "mean_d20 = t_grid_file1.d20.sel(**eq).mean('time')"
   ]
  },
  {
   "cell_type": "markdown",
   "id": "b614e8dc-8311-490f-99b4-2019580bc806",
   "metadata": {
    "tags": []
   },
   "source": [
    "### Sea Temperature"
   ]
  },
  {
   "cell_type": "code",
   "execution_count": 6,
   "id": "be050db7-d618-4319-bef7-6e866073189f",
   "metadata": {},
   "outputs": [
    {
     "name": "stderr",
     "output_type": "stream",
     "text": [
      "/tmp/ipykernel_4040065/627937798.py:2: RuntimeWarning: Failed to open Zarr store with consolidated metadata, falling back to try reading non-consolidated metadata. This is typically much slower for opening a dataset. To silence this warning, consider:\n",
      "1. Consolidating metadata in this existing store with zarr.consolidate_metadata().\n",
      "2. Explicitly setting consolidated=False, to avoid trying to read consolidate metadata, or\n",
      "3. Explicitly setting consolidated=True, to raise an error in this case instead of falling back to try reading non-consolidated metadata.\n",
      "  t_grid_file = xr.open_zarr(data + 't_grid')\n"
     ]
    }
   ],
   "source": [
    "data = '/data/user/mclaus/data/ORCA025.L46-KFS006_TroPA/'\n",
    "t_grid_file = xr.open_zarr(data + 't_grid')\n",
    "t_grid_file = t_grid_file.assign_coords(\n",
    "    coords={\n",
    "        'x': (t_grid_file.nav_lon[0,:] + 360) % 360,\n",
    "        'y': t_grid_file.nav_lat[:,0]\n",
    "    }\n",
    ").rename(\n",
    "   {\n",
    "       'time_counter':'time',   \n",
    "       'x':'lon',\n",
    "       'y':'lat', \n",
    "   }\n",
    ")"
   ]
  },
  {
   "cell_type": "code",
   "execution_count": 7,
   "id": "d7a349e1-a3de-44c8-8d47-d3c8f174a588",
   "metadata": {},
   "outputs": [],
   "source": [
    "ste_o = t_grid_file.votemper.isel(deptht=slice(0,16)).sel(**eq)"
   ]
  },
  {
   "cell_type": "code",
   "execution_count": 8,
   "id": "528111a2-87dd-42af-82f1-b34d01066e0a",
   "metadata": {},
   "outputs": [],
   "source": [
    "ste_mon_anom = monthly_anomalies(ste_o)\n",
    "ste_mon_anom.attrs.update({\"long_name\": \"Sea Temperature anomaly\", \"units\": \"°C\"})"
   ]
  },
  {
   "cell_type": "code",
   "execution_count": 9,
   "id": "b33e66e9-1171-4a3f-a25a-2a0f622d6967",
   "metadata": {},
   "outputs": [],
   "source": [
    "ste_eq = detrend(ste_mon_anom.compute()).rename('STE')"
   ]
  },
  {
   "cell_type": "code",
   "execution_count": 10,
   "id": "58178901-ad38-4eeb-86df-94ffd8d17973",
   "metadata": {},
   "outputs": [],
   "source": [
    "corr, c_low, c_up = corr_with_ttest(\n",
    "    d20_eq,ste_eq, dim=\"time\"\n",
    ")"
   ]
  },
  {
   "cell_type": "markdown",
   "id": "a776e6f7-617d-41cf-aa5c-331e1978b4d0",
   "metadata": {},
   "source": [
    "## Write output"
   ]
  },
  {
   "cell_type": "code",
   "execution_count": 11,
   "id": "eccccd6b-4c46-4df2-8de5-a8b71c545060",
   "metadata": {},
   "outputs": [],
   "source": [
    "ds = xr.Dataset(\n",
    "    dict(\n",
    "        corr=corr,\n",
    "        mean_d20=mean_d20,\n",
    "    )\n",
    ")"
   ]
  },
  {
   "cell_type": "code",
   "execution_count": 12,
   "id": "808a1d67-ea60-4ea9-a923-081ade1500a5",
   "metadata": {},
   "outputs": [],
   "source": [
    "!rm -rf data_figS2.zarr\n",
    "ds.to_zarr(\"data_figS2.zarr\");"
   ]
  },
  {
   "cell_type": "code",
   "execution_count": null,
   "id": "8e2815cd-f48d-4424-b5e6-9f8c6997ef09",
   "metadata": {},
   "outputs": [],
   "source": []
  }
 ],
 "metadata": {
  "kernelspec": {
   "display_name": "Python 3 (ipykernel)",
   "language": "python",
   "name": "python3"
  },
  "language_info": {
   "codemirror_mode": {
    "name": "ipython",
    "version": 3
   },
   "file_extension": ".py",
   "mimetype": "text/x-python",
   "name": "python",
   "nbconvert_exporter": "python",
   "pygments_lexer": "ipython3",
   "version": "3.8.13"
  }
 },
 "nbformat": 4,
 "nbformat_minor": 5
}
