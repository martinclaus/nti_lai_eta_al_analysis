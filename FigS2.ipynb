{
 "cells": [
  {
   "cell_type": "code",
   "execution_count": 1,
   "id": "cdc4024d-41ac-4985-a51b-db0c3e270e13",
   "metadata": {
    "tags": []
   },
   "outputs": [],
   "source": [
    "import xarray as xr\n",
    "import numpy as np\n",
    "from sklearn.linear_model import LinearRegression\n",
    "\n",
    "from utils import detrend, monthly_anomalies"
   ]
  },
  {
   "cell_type": "code",
   "execution_count": 2,
   "id": "9725a0fc-33b5-4ee0-9819-3f8b4cb37ffb",
   "metadata": {},
   "outputs": [],
   "source": [
    "t_grid_file = xr.open_zarr(\"data/ORCA025.L46-KFS006_TroPA.zarr/\")"
   ]
  },
  {
   "cell_type": "markdown",
   "id": "c37f7da6-be8c-4da6-a896-bf2152ed92ce",
   "metadata": {},
   "source": [
    "## Data preparation\n",
    "### Linear model output"
   ]
  },
  {
   "cell_type": "code",
   "execution_count": 3,
   "id": "57a92708-4070-4d9c-9f71-f3e7408cad2d",
   "metadata": {},
   "outputs": [],
   "source": [
    "eta = xr.open_zarr(\"data/lmmm_eta_nemo.zarr/\").eta.sel(\n",
    "    mode=slice(1, 3), lat=slice(-5,5),lon=slice(140,260)\n",
    ")"
   ]
  },
  {
   "cell_type": "markdown",
   "id": "dcf1fdef-8c18-4206-8506-beca263a61c3",
   "metadata": {},
   "source": [
    "### Nemo SSH "
   ]
  },
  {
   "cell_type": "code",
   "execution_count": 4,
   "id": "86f9fbb6-d738-4787-9ae6-9a7104a35021",
   "metadata": {
    "tags": []
   },
   "outputs": [],
   "source": [
    "ssh_fitting = t_grid_file.sossheig.sel(lat=0.,lon=slice(140.,260.))\n",
    "ssh = t_grid_file.sossheig.interp(lat=eta.lat,lon=eta.lon)"
   ]
  },
  {
   "cell_type": "code",
   "execution_count": 5,
   "id": "082a313b-c5fa-4acc-a4b0-da05163c3881",
   "metadata": {},
   "outputs": [],
   "source": [
    "ssha_fitting = detrend(monthly_anomalies(ssh_fitting).compute())"
   ]
  },
  {
   "cell_type": "code",
   "execution_count": 6,
   "id": "83ccee34-0a4e-44da-8931-a151c7bfc1cf",
   "metadata": {},
   "outputs": [],
   "source": [
    "ssh_mon_anom = detrend(monthly_anomalies(ssh).compute())"
   ]
  },
  {
   "cell_type": "markdown",
   "id": "849863fd-47ee-43f3-a4f6-3030233d5bfd",
   "metadata": {},
   "source": [
    "### SSH from linear model"
   ]
  },
  {
   "cell_type": "code",
   "execution_count": 7,
   "id": "8e86e274-c19a-48d7-8a91-e23ed6859bf0",
   "metadata": {},
   "outputs": [],
   "source": [
    "eta_mon = eta.assign_coords(\n",
    "    {'time':(eta.time-np.timedelta64(1314900,'s')).data}\n",
    ").interp(time=ssh_mon_anom.time).fillna(0.).compute()"
   ]
  },
  {
   "cell_type": "code",
   "execution_count": 8,
   "id": "fe4edeb2-cac8-403f-9aaa-fd0d25a78779",
   "metadata": {
    "tags": []
   },
   "outputs": [],
   "source": [
    "eta_fitting = eta_mon.interp(lat=0)"
   ]
  },
  {
   "cell_type": "code",
   "execution_count": 9,
   "id": "b0b19397-d808-4ed1-a14a-76af67ce2368",
   "metadata": {},
   "outputs": [],
   "source": [
    "def fitting(ssha, eta_x):\n",
    "    mask = ~(\n",
    "        np.isnan(ssha).all('time')\n",
    "        | np.isnan(eta_x.sel(mode=1)).all('time')\n",
    "    )\n",
    "    a = np.vstack(\n",
    "        [\n",
    "            eta_x.sel(mode=k)[:, mask].values.flatten()\n",
    "            for k in (1,2,3)\n",
    "        ]\n",
    "    ).T\n",
    "    a_inv = np.linalg.pinv(a)\n",
    "\n",
    "    b = ssha[:, mask].values.flatten()\n",
    "\n",
    "    coeff = a_inv.dot(b)\n",
    "    coeff = xr.DataArray(\n",
    "        coeff,\n",
    "        coords=(eta_x.sel(mode=slice(1, 3)).mode,),\n",
    "        dims=(\"mode\",)\n",
    "    )\n",
    "    return coeff"
   ]
  },
  {
   "cell_type": "code",
   "execution_count": 10,
   "id": "cf1fe052-74e0-40cf-a2b9-723ece6979ea",
   "metadata": {},
   "outputs": [],
   "source": [
    "coeff = fitting(ssha_fitting.T, eta_fitting)\n",
    "\n",
    "ssh_lin = detrend(\n",
    "    (coeff * eta_mon).sum(\"mode\")\n",
    ")"
   ]
  },
  {
   "cell_type": "markdown",
   "id": "be00c8ad-8a3a-4bb1-ba8e-6a138093a744",
   "metadata": {},
   "source": [
    "### D20 from NEMO "
   ]
  },
  {
   "cell_type": "code",
   "execution_count": 11,
   "id": "df0cc9f7-6fb8-4270-bd57-2b73e27907db",
   "metadata": {},
   "outputs": [],
   "source": [
    "d20_mon_anom = detrend(\n",
    "    monthly_anomalies(\n",
    "        t_grid_file.d20\n",
    "    )\n",
    "    .interp(lat=eta.lat,lon = eta.lon)\n",
    "    .fillna(0.).compute()\n",
    ")"
   ]
  },
  {
   "cell_type": "markdown",
   "id": "b82a9355-3c02-47ff-b92a-4ec357b23973",
   "metadata": {},
   "source": [
    "## Write output"
   ]
  },
  {
   "cell_type": "code",
   "execution_count": 12,
   "id": "1392d5db-1569-49e2-b733-8047fcff7b79",
   "metadata": {},
   "outputs": [],
   "source": [
    "ds = xr.Dataset(\n",
    "    dict(\n",
    "        ssh_nemo=ssh_mon_anom,\n",
    "        d20_nemo=d20_mon_anom,\n",
    "        ssh_lin=ssh_lin,\n",
    "    )\n",
    ")"
   ]
  },
  {
   "cell_type": "code",
   "execution_count": 13,
   "id": "f75e0665-e989-4c29-b161-5c1bd0ed5d7e",
   "metadata": {},
   "outputs": [],
   "source": [
    "!rm -rf data_fig2S.zarr\n",
    "ds.to_zarr(\"data_fig2S.zarr\");"
   ]
  },
  {
   "cell_type": "code",
   "execution_count": null,
   "id": "1dadb146-5711-4af5-b728-47a9758caac1",
   "metadata": {},
   "outputs": [],
   "source": []
  }
 ],
 "metadata": {
  "kernelspec": {
   "display_name": "Python 3 (ipykernel)",
   "language": "python",
   "name": "python3"
  },
  "language_info": {
   "codemirror_mode": {
    "name": "ipython",
    "version": 3
   },
   "file_extension": ".py",
   "mimetype": "text/x-python",
   "name": "python",
   "nbconvert_exporter": "python",
   "pygments_lexer": "ipython3",
   "version": "3.8.13"
  }
 },
 "nbformat": 4,
 "nbformat_minor": 5
}
