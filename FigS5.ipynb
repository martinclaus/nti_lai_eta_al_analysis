{
 "cells": [
  {
   "cell_type": "code",
   "execution_count": 1,
   "id": "d993d908-8f80-4c1c-8f50-fe8399e44d90",
   "metadata": {},
   "outputs": [],
   "source": [
    "import xarray as xr\n",
    "import numpy as np\n",
    "\n",
    "from utils import (\n",
    "    detrend, monthly_anomalies, corr_with_ttest\n",
    ")"
   ]
  },
  {
   "cell_type": "code",
   "execution_count": 2,
   "id": "2dc2489b-9da3-4941-aa7c-62c69e2b1836",
   "metadata": {},
   "outputs": [],
   "source": [
    "t_grid_file = xr.open_zarr('data/ORCA025.L46-KFS006_TroPA.zarr/')"
   ]
  },
  {
   "cell_type": "code",
   "execution_count": 3,
   "id": "063aba54-a38a-4d0d-8ec8-82c5131b9cb4",
   "metadata": {},
   "outputs": [],
   "source": [
    "eq = dict(lat=0, lon=slice(140,260))"
   ]
  },
  {
   "cell_type": "markdown",
   "id": "24dce844-d112-4925-a3ff-2e7a61134b93",
   "metadata": {
    "tags": []
   },
   "source": [
    "#### 1.1 D20 "
   ]
  },
  {
   "cell_type": "code",
   "execution_count": 4,
   "id": "bf690729-60c2-4ae4-a489-b16cf54ccf35",
   "metadata": {},
   "outputs": [],
   "source": [
    "d20_eq = monthly_anomalies(\n",
    "    (-1) * t_grid_file.d20.sel(**eq)\n",
    ").fillna(0.).rename(\"D20\").compute()"
   ]
  },
  {
   "cell_type": "markdown",
   "id": "975a3185-1412-48a8-9ed0-663917a05212",
   "metadata": {},
   "source": [
    "#### 1.2 get SST data"
   ]
  },
  {
   "cell_type": "code",
   "execution_count": 5,
   "id": "55fd54b0-37e4-48a3-b065-dbea5803498a",
   "metadata": {},
   "outputs": [],
   "source": [
    "sst_eq = monthly_anomalies(\n",
    "    t_grid_file.sosstsst.sel(**eq)\n",
    ").rename(\"SST\")"
   ]
  },
  {
   "cell_type": "code",
   "execution_count": 6,
   "id": "15083a17-9332-42f3-82e1-b9b4fdadf148",
   "metadata": {},
   "outputs": [],
   "source": [
    "ds = xr.Dataset({\"SST\": sst_eq, \"D20\": d20_eq})"
   ]
  },
  {
   "cell_type": "code",
   "execution_count": 7,
   "id": "ee5d3d96-e043-4545-b749-05dcdf62ddeb",
   "metadata": {},
   "outputs": [],
   "source": [
    "ds_win = ds.rolling(time=21*12,center=True).construct(\"window_dim\")"
   ]
  },
  {
   "cell_type": "code",
   "execution_count": 8,
   "id": "7b1005e9-0326-4727-9608-42deb02c3ba4",
   "metadata": {},
   "outputs": [],
   "source": [
    "ds_windowed = detrend(\n",
    "    ds_win.dropna('time').compute(),\n",
    "    dim='window_dim',\n",
    ")"
   ]
  },
  {
   "cell_type": "code",
   "execution_count": 9,
   "id": "0ca135f5-9e99-4968-8e0e-ab2aad744bce",
   "metadata": {},
   "outputs": [],
   "source": [
    "corr, c_low, c_up = corr_with_ttest(\n",
    "    ds_windowed.SST, ds_windowed.D20, dim=\"window_dim\"\n",
    ")"
   ]
  },
  {
   "cell_type": "code",
   "execution_count": 10,
   "id": "a8f08460-50fe-430b-98e7-06ee8fc02119",
   "metadata": {},
   "outputs": [],
   "source": [
    "non_sig = xr.where(np.abs(corr) <= c_up, 1., np.nan)"
   ]
  },
  {
   "cell_type": "markdown",
   "id": "2e676eea-177a-4315-924f-b163b5fbbe20",
   "metadata": {},
   "source": [
    "## Write output"
   ]
  },
  {
   "cell_type": "code",
   "execution_count": 11,
   "id": "417bb327-7f28-47ab-8c1e-32325935413e",
   "metadata": {},
   "outputs": [],
   "source": [
    "!rm -rf data_fig5S.zarr\n",
    "\n",
    "xr.Dataset(\n",
    "    dict(\n",
    "        corr=corr,\n",
    "        non_sig=non_sig,\n",
    "    )\n",
    ").to_zarr('data_fig5S.zarr');"
   ]
  }
 ],
 "metadata": {
  "kernelspec": {
   "display_name": "Python 3 (ipykernel)",
   "language": "python",
   "name": "python3"
  },
  "language_info": {
   "codemirror_mode": {
    "name": "ipython",
    "version": 3
   },
   "file_extension": ".py",
   "mimetype": "text/x-python",
   "name": "python",
   "nbconvert_exporter": "python",
   "pygments_lexer": "ipython3",
   "version": "3.8.13"
  }
 },
 "nbformat": 4,
 "nbformat_minor": 5
}
