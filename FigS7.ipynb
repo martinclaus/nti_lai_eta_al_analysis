{
 "cells": [
  {
   "cell_type": "code",
   "execution_count": 1,
   "id": "f664fc60-7515-4b15-91b7-ae742f2fbf04",
   "metadata": {
    "tags": []
   },
   "outputs": [],
   "source": [
    "import xarray as xr\n",
    "import numpy as np\n",
    "import matplotlib.pyplot as plt\n",
    "from utils import (\n",
    "    detrend, monthly_anomalies,\n",
    "    standardize, reg_slope, corr_with_ttest,\n",
    ")"
   ]
  },
  {
   "cell_type": "code",
   "execution_count": 2,
   "id": "ef079bfa-2f4a-497d-bdce-e52174fe1516",
   "metadata": {},
   "outputs": [],
   "source": [
    "t_grid_file = xr.open_zarr('data/ORCA025.L46-KFS006_TroPA.zarr')"
   ]
  },
  {
   "cell_type": "code",
   "execution_count": 3,
   "id": "ab2dc287-102d-4ae7-8ba5-0c6375e0025b",
   "metadata": {},
   "outputs": [],
   "source": [
    "eq = dict(lat=0,lon=slice(140,260))"
   ]
  },
  {
   "cell_type": "markdown",
   "id": "c5d1846a-b21b-477c-878a-a02dd6eec7a4",
   "metadata": {},
   "source": [
    "## Load input data "
   ]
  },
  {
   "cell_type": "markdown",
   "id": "146026f3-5c8a-40aa-96be-94291461ddaa",
   "metadata": {
    "tags": []
   },
   "source": [
    "### D20 "
   ]
  },
  {
   "cell_type": "code",
   "execution_count": 4,
   "id": "ba426a00-1827-4cc0-a715-a68f26f9da43",
   "metadata": {
    "tags": []
   },
   "outputs": [],
   "source": [
    "d20_mon_anom = monthly_anomalies(\n",
    "    (-1) * t_grid_file.d20.sel(**eq)\n",
    ").fillna(0.).compute()\n",
    "d20_mon_anom.attrs.update({\"long_name\": \"D20 anomaly\", \"units\": \"m\", \"positive\": \"up\"})"
   ]
  },
  {
   "cell_type": "markdown",
   "id": "57310936-74ae-4a08-b7e1-2d1e66e35522",
   "metadata": {},
   "source": [
    "### SSH "
   ]
  },
  {
   "cell_type": "code",
   "execution_count": 5,
   "id": "2d7341b2-289e-408d-a051-1e321cab785d",
   "metadata": {},
   "outputs": [],
   "source": [
    "ssh_o = t_grid_file.sossheig.sel(**eq)\n",
    "\n",
    "ssh_mon_anom = monthly_anomalies(ssh_o)\n",
    "\n",
    "ssh_mon_anom.attrs.update({\"long_name\": \"SSH anomaly\", \"units\": \"m\"})"
   ]
  },
  {
   "cell_type": "markdown",
   "id": "ba822633-c5b6-4abb-8d7a-689e363338ec",
   "metadata": {
    "tags": []
   },
   "source": [
    "### Correlation between SSH and D20"
   ]
  },
  {
   "cell_type": "code",
   "execution_count": 6,
   "id": "5f3a44b3-b3e2-4f51-8669-d63d45703469",
   "metadata": {},
   "outputs": [],
   "source": [
    "ds_a = xr.Dataset({\"ssh\": ssh_mon_anom,\"d20\":d20_mon_anom})"
   ]
  },
  {
   "cell_type": "code",
   "execution_count": 7,
   "id": "0c74701f-b751-41fc-8de6-a513abb50458",
   "metadata": {},
   "outputs": [],
   "source": [
    "ds_dt_all = detrend(ds_a.compute())"
   ]
  },
  {
   "cell_type": "code",
   "execution_count": 8,
   "id": "f3ce88bd-be99-4bca-83b4-38e4070e1e05",
   "metadata": {},
   "outputs": [],
   "source": [
    "corr_d20_ssh, corr_d20_ssh_low, corr_d20_ssh_up = corr_with_ttest((-1)*ds_dt_all.d20, ds_dt_all.ssh, sig=0.95)"
   ]
  },
  {
   "cell_type": "code",
   "execution_count": 9,
   "id": "0b566da3-d81c-412e-b557-80843683320e",
   "metadata": {},
   "outputs": [
    {
     "data": {
      "text/plain": [
       "<matplotlib.legend.Legend at 0x7fc8b39dc1f0>"
      ]
     },
     "execution_count": 9,
     "metadata": {},
     "output_type": "execute_result"
    },
    {
     "data": {
      "image/png": "[encoded data removed]",
      "text/plain": [
       "<Figure size 576x216 with 1 Axes>"
      ]
     },
     "metadata": {
      "needs_background": "light"
     },
     "output_type": "display_data"
    }
   ],
   "source": [
    "fig = plt.figure(figsize=(8,3))\n",
    "corr_d20_ssh.plot(label='cor(SSH,D20)')\n",
    "corr_d20_ssh_up.plot()\n",
    "plt.title('Correlation between SSH and D20')\n",
    "plt.xlabel('longitude');\n",
    "plt.legend()"
   ]
  },
  {
   "cell_type": "markdown",
   "id": "300955b5-01ae-4f85-bfea-71e5c7c4630c",
   "metadata": {
    "tags": []
   },
   "source": [
    "### 21y-running regression coefficient"
   ]
  },
  {
   "cell_type": "code",
   "execution_count": 10,
   "id": "d8ea5239-8c48-4312-9852-8142e83642fb",
   "metadata": {},
   "outputs": [],
   "source": [
    "ds_dt = detrend(\n",
    "    ds_a.rolling(time=21*12,center=True).construct(\"window_dim\").dropna('time').compute(),\n",
    "    dim='window_dim',\n",
    ")"
   ]
  },
  {
   "cell_type": "code",
   "execution_count": 11,
   "id": "52e1b5ba-ca54-4f5d-b0cc-8b8a131356a2",
   "metadata": {},
   "outputs": [],
   "source": [
    "slope = -1*reg_slope(ds_dt.d20, ds_dt.ssh, dim=\"window_dim\")"
   ]
  },
  {
   "cell_type": "code",
   "execution_count": 12,
   "id": "d21ba037-1ec9-41c6-9ae9-09438c488d22",
   "metadata": {},
   "outputs": [],
   "source": [
    "corr, c_low, c_up = corr_with_ttest(\n",
    "    ds_dt.ssh, -1*ds_dt.d20, dim=\"window_dim\"\n",
    ")"
   ]
  },
  {
   "cell_type": "code",
   "execution_count": 13,
   "id": "99394722-6cf7-4cc8-9a44-bac15221efc5",
   "metadata": {},
   "outputs": [],
   "source": [
    "non_sig = xr.where(np.abs(corr) <= c_up, 1., np.nan)"
   ]
  },
  {
   "cell_type": "markdown",
   "id": "538cf95e-fc03-4a16-842c-f3cc6b9afb98",
   "metadata": {},
   "source": [
    "## Write output"
   ]
  },
  {
   "cell_type": "code",
   "execution_count": 14,
   "id": "52ae245c-162a-4877-a044-ebb6c4b8edd8",
   "metadata": {},
   "outputs": [],
   "source": [
    "!rm -rf data_figS7.zarr\n",
    "\n",
    "xr.Dataset(\n",
    "    dict(\n",
    "        corr_d20_ssh=corr_d20_ssh,\n",
    "        slope=slope,\n",
    "        non_sig=non_sig,\n",
    "    )\n",
    ").to_zarr('data_figS7.zarr');"
   ]
  },
  {
   "cell_type": "code",
   "execution_count": null,
   "id": "9d01b041-92c1-42bb-901d-1db2dc89bc36",
   "metadata": {},
   "outputs": [],
   "source": []
  }
 ],
 "metadata": {
  "kernelspec": {
   "display_name": "Python 3 (ipykernel)",
   "language": "python",
   "name": "python3"
  },
  "language_info": {
   "codemirror_mode": {
    "name": "ipython",
    "version": 3
   },
   "file_extension": ".py",
   "mimetype": "text/x-python",
   "name": "python",
   "nbconvert_exporter": "python",
   "pygments_lexer": "ipython3",
   "version": "3.8.13"
  }
 },
 "nbformat": 4,
 "nbformat_minor": 5
}
