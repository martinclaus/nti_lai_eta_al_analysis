{
 "cells": [
  {
   "cell_type": "code",
   "execution_count": 1,
   "id": "4a139bba-cf69-436c-a557-c3118bac0eb0",
   "metadata": {},
   "outputs": [],
   "source": [
    "import xarray as xr\n",
    "import numpy as np\n",
    "from utils import (\n",
    "     detrend, monthly_anomalies, corr_with_ttest,reg_slope,\n",
    ")"
   ]
  },
  {
   "cell_type": "code",
   "execution_count": 2,
   "id": "38310e94-8e8a-4b30-a9d3-87740df519ad",
   "metadata": {},
   "outputs": [],
   "source": [
    "eq = dict(lat=0,lon=slice(140,260))\n",
    "tpart = slice('1958-01','2018-12')"
   ]
  },
  {
   "cell_type": "markdown",
   "id": "8ac318df-107f-46d6-a44f-678684aea7ee",
   "metadata": {},
   "source": [
    "## Data preparation "
   ]
  },
  {
   "cell_type": "code",
   "execution_count": 3,
   "id": "755b5ea9-81cd-4890-a793-6453b6c5cc6f",
   "metadata": {},
   "outputs": [],
   "source": [
    "t_grid_file = xr.open_zarr('data/ORCA025.L46-KFS006_TroPA.zarr')"
   ]
  },
  {
   "cell_type": "markdown",
   "id": "c2afef22-bd25-485b-bf60-e4f570c8d103",
   "metadata": {
    "tags": []
   },
   "source": [
    "### Nemo SSH "
   ]
  },
  {
   "cell_type": "code",
   "execution_count": 4,
   "id": "7d37c09a-cda5-4d6d-84f8-53a1e63788d9",
   "metadata": {},
   "outputs": [],
   "source": [
    "ssh_a = monthly_anomalies(t_grid_file.sossheig.sel(**eq,time=tpart)).compute()"
   ]
  },
  {
   "cell_type": "code",
   "execution_count": 5,
   "id": "097fe067-57e9-4d82-9b23-8721839a7a0f",
   "metadata": {},
   "outputs": [],
   "source": [
    "ssh_y = detrend(ssh_a.compute())"
   ]
  },
  {
   "cell_type": "code",
   "execution_count": 6,
   "id": "ab31d8d2-1525-4234-950b-402ffb4b6dfb",
   "metadata": {},
   "outputs": [],
   "source": [
    "def season(x):\n",
    "    res=np.zeros((12,61,481))\n",
    "    for i in range(0,12):\n",
    "        for j in range(0,61):\n",
    "            res[i,j,:] = x.where((x['time.month'] == i+1) & (x['time.year'] == j+1958), drop=True).drop_vars('time')\n",
    "\n",
    "    season_x = xr.DataArray(\n",
    "        data=res,\n",
    "        dims=[\"month\", \"year\", \"lon\"],\n",
    "        coords=dict(\n",
    "            month=x.where(x['time.year'] == 1958, drop=True)['time.month'].to_numpy(),\n",
    "            year=x.where(x['time.month'] == 1, drop=True)['time.year'].to_numpy(),\n",
    "            lon=x.lon,\n",
    "        ),\n",
    "    )\n",
    "    \n",
    "    season_x_dt = detrend(\n",
    "        season_x.compute(),\n",
    "        dim='year',\n",
    "    )\n",
    "    return season_x_dt"
   ]
  },
  {
   "cell_type": "code",
   "execution_count": 7,
   "id": "270f1ca2-4fc4-4354-9b29-c02dd5395a1e",
   "metadata": {},
   "outputs": [],
   "source": [
    "ssh_mon = season(ssh_a)"
   ]
  },
  {
   "cell_type": "markdown",
   "id": "7081c4f5-4d0e-4de5-bea5-d1e6b55ac1f7",
   "metadata": {},
   "source": [
    "### D20 from Nemo "
   ]
  },
  {
   "cell_type": "code",
   "execution_count": 8,
   "id": "e6ec7a47-56e5-47d5-83c0-175f75c82d87",
   "metadata": {},
   "outputs": [],
   "source": [
    "d20_a = monthly_anomalies(\n",
    "    t_grid_file.d20.sel(**eq,time=tpart)\n",
    ").fillna(0.).compute()"
   ]
  },
  {
   "cell_type": "code",
   "execution_count": 9,
   "id": "91363e36-5e3a-492b-957e-f68f53231c79",
   "metadata": {},
   "outputs": [],
   "source": [
    "d20_y = detrend(d20_a.compute())"
   ]
  },
  {
   "cell_type": "code",
   "execution_count": 10,
   "id": "a8cc6a9c-708b-418a-afe8-64598a44e44f",
   "metadata": {},
   "outputs": [],
   "source": [
    "d20_mon = season(d20_a)"
   ]
  },
  {
   "cell_type": "markdown",
   "id": "56165f7b-898c-4d09-ab88-142d258ed43e",
   "metadata": {},
   "source": [
    "### NEMO-NLTI as Figure 2"
   ]
  },
  {
   "cell_type": "code",
   "execution_count": 11,
   "id": "9023b3f8-e2cf-4a73-9826-ab9a7da61419",
   "metadata": {},
   "outputs": [],
   "source": [
    "slope = reg_slope(d20_y, ssh_y, dim=\"time\")\n",
    "\n",
    "nlti_y = (\n",
    "    ssh_y - slope * d20_y\n",
    ").rename(\"NLTI\")\n",
    "\n",
    "nlti_y=detrend(\n",
    "    nlti_y\n",
    ")"
   ]
  },
  {
   "cell_type": "markdown",
   "id": "fe32101c-8939-49f3-af9e-9c5a1473fb11",
   "metadata": {
    "tags": []
   },
   "source": [
    "###  Month-NLTI"
   ]
  },
  {
   "cell_type": "code",
   "execution_count": 12,
   "id": "d5c5b71a-3424-423d-8dda-6bf7be6059a8",
   "metadata": {},
   "outputs": [],
   "source": [
    "slope = reg_slope(d20_mon, ssh_mon, dim=\"year\")\n",
    "\n",
    "nlti_mon = (\n",
    "    ssh_mon - slope * d20_mon\n",
    ").rename(\"NLTI-mon\")\n",
    "\n",
    "nlti_mon=detrend(\n",
    "    nlti_mon.compute(),\n",
    "    dim='year',\n",
    ")"
   ]
  },
  {
   "cell_type": "markdown",
   "id": "16a0ddfc-ffac-4230-bfe1-6183b650190a",
   "metadata": {
    "tags": []
   },
   "source": [
    "####  Back to year"
   ]
  },
  {
   "cell_type": "code",
   "execution_count": 13,
   "id": "6cf0e9ce-8362-4328-8501-20d6ea249da9",
   "metadata": {},
   "outputs": [],
   "source": [
    "def back(x):\n",
    "    res=np.zeros((12*61,481))\n",
    "    for i in range(0,12*61):\n",
    "        res[i,:] = x[i-(i//12)*12,:,i//12].drop_vars(['month','year'])\n",
    "        \n",
    "    back_x = xr.DataArray(\n",
    "        data=res,\n",
    "        dims=[\"time\", \"lon\"],\n",
    "        coords=dict(\n",
    "            time=ssh_a.time,\n",
    "            lon=x.lon,\n",
    "        ),\n",
    "    )\n",
    "    \n",
    "    return back_x"
   ]
  },
  {
   "cell_type": "code",
   "execution_count": 14,
   "id": "f05be621-3cc0-4321-853d-b8cc9641798d",
   "metadata": {},
   "outputs": [],
   "source": [
    "nlti_back = back(nlti_mon)"
   ]
  },
  {
   "cell_type": "markdown",
   "id": "6c9c5b23-ff48-4a7c-be12-a4e9122a7b23",
   "metadata": {},
   "source": [
    "## Write outout"
   ]
  },
  {
   "cell_type": "code",
   "execution_count": 15,
   "id": "2da16e3b-d772-492b-a246-789ab2ab64c4",
   "metadata": {},
   "outputs": [],
   "source": [
    "!rm -rf data_figS8.zarr\n",
    "\n",
    "xr.Dataset(\n",
    "    dict(\n",
    "        nlti_y=nlti_y,\n",
    "        nlti_mon=nlti_back,\n",
    "    )\n",
    ").to_zarr(\"data_figS8.zarr\");"
   ]
  },
  {
   "cell_type": "code",
   "execution_count": null,
   "id": "a9bd9f93-62b5-43be-ae0c-3a24d0e3907a",
   "metadata": {},
   "outputs": [],
   "source": []
  }
 ],
 "metadata": {
  "kernelspec": {
   "display_name": "Python 3 (ipykernel)",
   "language": "python",
   "name": "python3"
  },
  "language_info": {
   "codemirror_mode": {
    "name": "ipython",
    "version": 3
   },
   "file_extension": ".py",
   "mimetype": "text/x-python",
   "name": "python",
   "nbconvert_exporter": "python",
   "pygments_lexer": "ipython3",
   "version": "3.8.13"
  }
 },
 "nbformat": 4,
 "nbformat_minor": 5
}
