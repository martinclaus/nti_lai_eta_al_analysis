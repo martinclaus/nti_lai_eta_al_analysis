{
 "cells": [
  {
   "cell_type": "code",
   "execution_count": 1,
   "id": "921db544-eccd-4f29-a398-6e4c85e23e30",
   "metadata": {},
   "outputs": [],
   "source": [
    "import xarray as xr\n",
    "import numpy as np\n",
    "import matplotlib.pyplot as plt\n",
    "from matplotlib.pyplot import MultipleLocator\n",
    "\n",
    "from utils import (\n",
    "    detrend, monthly_anomalies, interp_coords,\n",
    "    standardize, corr_with_ttest\n",
    ")"
   ]
  },
  {
   "cell_type": "code",
   "execution_count": 2,
   "id": "fe56a3e2-d845-4ddf-ad01-4b23c18d869a",
   "metadata": {},
   "outputs": [],
   "source": [
    "t_grid_file = xr.open_zarr('data/ORCA025.L46-KFS006_TroPA.zarr/')"
   ]
  },
  {
   "cell_type": "code",
   "execution_count": 3,
   "id": "b96ba1da-ce52-47c5-be80-69569fd71767",
   "metadata": {},
   "outputs": [],
   "source": [
    "eq = dict(lat=0)\n",
    "eq_band = dict(lat=slice(-5, 5))\n",
    "nino3_region = dict(lon=slice(210, 270), **eq_band)\n",
    "nino4_region = dict(lon=slice(160, 210), **eq_band)\n",
    "tpart= dict(time=slice('1979-01','2019-12'))"
   ]
  },
  {
   "cell_type": "markdown",
   "id": "7994d831-3ae1-48f1-8784-a8694fdcfeab",
   "metadata": {},
   "source": [
    "## Prepare Data\n",
    "### Nemo SSH "
   ]
  },
  {
   "cell_type": "code",
   "execution_count": 4,
   "id": "d553523e-de6d-4654-adb9-75933d2123be",
   "metadata": {},
   "outputs": [],
   "source": [
    "ssh_mon_anom = detrend(\n",
    "    monthly_anomalies(\n",
    "        t_grid_file.sossheig.sel(**eq_band, **tpart)\n",
    "    ).compute()\n",
    ")\n",
    "ssh_eq = ssh_mon_anom.sel(**eq)"
   ]
  },
  {
   "cell_type": "markdown",
   "id": "be8d4730-04a5-4a76-aafc-9b7fd2c803e1",
   "metadata": {},
   "source": [
    "### D20 "
   ]
  },
  {
   "cell_type": "code",
   "execution_count": 5,
   "id": "d169b3f7-bd0b-4513-b8e1-107b2e69007d",
   "metadata": {},
   "outputs": [],
   "source": [
    "d20_mon_anom = detrend(\n",
    "    monthly_anomalies(\n",
    "        (-1) * t_grid_file.d20.sel(**eq_band, **tpart)\n",
    "    ).fillna(0.)\n",
    "    .compute()\n",
    ")\n",
    "\n",
    "d20_eq = d20_mon_anom.sel(**eq)"
   ]
  },
  {
   "cell_type": "markdown",
   "id": "b3f29910-5260-4514-a052-c86a48e3ad41",
   "metadata": {},
   "source": [
    "### NTI"
   ]
  },
  {
   "cell_type": "code",
   "execution_count": 6,
   "id": "d52fff28-0a73-4283-82aa-4f7be80b00d5",
   "metadata": {},
   "outputs": [],
   "source": [
    "nti_n4=(\n",
    "    standardize(ssh_mon_anom) + standardize(d20_mon_anom)\n",
    ").sel(\n",
    "    **nino4_region\n",
    ").mean(['lat','lon']).rename('nti_n4').compute()"
   ]
  },
  {
   "cell_type": "markdown",
   "id": "36e095e6-d8d4-4c9b-a865-50065226a0a8",
   "metadata": {
    "tags": []
   },
   "source": [
    "### SST "
   ]
  },
  {
   "cell_type": "code",
   "execution_count": 7,
   "id": "dfb12044-1f5d-4142-b13e-3a9e64609463",
   "metadata": {},
   "outputs": [],
   "source": [
    "sst_mon_anom = monthly_anomalies(\n",
    "    t_grid_file.sosstsst.sel(**tpart)\n",
    ")\n",
    "\n",
    "n3 = sst_mon_anom.sel(\n",
    "    **nino3_region\n",
    ").mean(('lon', 'lat')).rename('sst_n3')\n",
    "\n",
    "n4 = sst_mon_anom.sel(\n",
    "    **nino4_region\n",
    ").mean(('lon', 'lat')).rename('sst_n3')"
   ]
  },
  {
   "cell_type": "markdown",
   "id": "f4f0a9ec-f935-41d6-896a-2d0dd4f6a57a",
   "metadata": {},
   "source": [
    "### From Ashok2007 EMI: CP "
   ]
  },
  {
   "cell_type": "code",
   "execution_count": 8,
   "id": "d6b920bc-8d22-458f-9e8e-93e6093b1faa",
   "metadata": {},
   "outputs": [],
   "source": [
    "a_region = dict(lon=slice(165, 220), lat=slice(-10, 10))\n",
    "b_region = dict(lon=slice(250, 290), lat=slice(-15, 5))\n",
    "c_region = dict(lon=slice(125, 145), lat=slice(-10, 20))"
   ]
  },
  {
   "cell_type": "code",
   "execution_count": 9,
   "id": "a75e0191-0c21-4c23-b264-e1f4a0f1abe1",
   "metadata": {},
   "outputs": [],
   "source": [
    "aindex = sst_mon_anom.sel(**a_region).mean(('lon', 'lat'))\n",
    "bindex = sst_mon_anom.sel(**b_region).mean(('lon', 'lat'))\n",
    "cindex = sst_mon_anom.sel(**c_region).mean(('lon', 'lat'))\n",
    "emi = aindex - 0.5 * bindex - 0.5 * cindex"
   ]
  },
  {
   "cell_type": "markdown",
   "id": "8800b9be-6089-472b-8b7a-9fac061c1278",
   "metadata": {},
   "source": [
    "### From Ren and Jin(2010) ict:EP / iwp:CP "
   ]
  },
  {
   "cell_type": "code",
   "execution_count": 10,
   "id": "13409be8-8f7b-4bbe-b9a2-ac9e3268e18f",
   "metadata": {},
   "outputs": [],
   "source": [
    "aa = n3 * n4\n",
    "alpha = np.where(aa > 0, 0.4, 0)\n",
    "Nwp = n4 - alpha * n3"
   ]
  },
  {
   "cell_type": "markdown",
   "id": "abc6fda2-597a-47de-aed2-e8e4e534d549",
   "metadata": {},
   "source": [
    "## 2.detrend and correlation"
   ]
  },
  {
   "cell_type": "code",
   "execution_count": 11,
   "id": "392ac446-e396-4670-b4ba-58d3fe44691d",
   "metadata": {},
   "outputs": [],
   "source": [
    "ds = xr.Dataset(\n",
    "    {\"nti\": nti_n4, \"n4\": n4, \"emi\": emi, \"Nwp\": Nwp}\n",
    ").compute()"
   ]
  },
  {
   "cell_type": "code",
   "execution_count": 12,
   "id": "0de22423-48ae-44e9-98e1-56b4bb2e9ae9",
   "metadata": {},
   "outputs": [],
   "source": [
    "ds_dt = detrend(ds)"
   ]
  },
  {
   "cell_type": "code",
   "execution_count": 13,
   "id": "8126b8f7-8003-4063-ad88-84910cdcc6ec",
   "metadata": {},
   "outputs": [],
   "source": [
    "def get_test(var1, var2, sig=0.99):\n",
    "    corr, c_low, c_up = corr_with_ttest(\n",
    "        var1, var2, sig=sig,\n",
    "        t_bound_kwargs=dict(dim=[])\n",
    "    )\n",
    "    ttest = corr > c_up\n",
    "    return corr.values, c_up.values, ttest.values"
   ]
  },
  {
   "cell_type": "code",
   "execution_count": 14,
   "id": "a29bede5-2a9c-45ff-a1f6-d0da0e849f1b",
   "metadata": {},
   "outputs": [],
   "source": [
    "def produce_table(ds):\n",
    "    varname_map = dict(\n",
    "        n4=\"SST\\t\", nti=\"NEMO-NTI\", Nwp=\"N_wp\\t\", emi=\"EMI\\t\"\n",
    "    )\n",
    "    print(\n",
    "        f\"\\t\\t{varname_map['nti']}\\t{varname_map['Nwp']}\\t{varname_map['emi']}\"\n",
    "    )\n",
    "    for v1 in (\"n4\", \"nti\", \"Nwp\"):\n",
    "        res = []\n",
    "        for v2 in (\"nti\", \"Nwp\", \"emi\"):\n",
    "            corr, _, _ = get_test(ds[v1], ds[v2])\n",
    "            res.append(corr)\n",
    "        print(f\"{varname_map[v1]}\\t{res[0]:.2f}\\t\\t{res[1]:.2f}\\t\\t{res[2]:.2f}\")"
   ]
  },
  {
   "cell_type": "code",
   "execution_count": 15,
   "id": "38145409-2983-4d1a-a4f4-43665178bb51",
   "metadata": {},
   "outputs": [
    {
     "name": "stdout",
     "output_type": "stream",
     "text": [
      "\t\tNEMO-NTI\tN_wp\t\tEMI\t\n",
      "SST\t\t0.87\t\t0.88\t\t0.90\n",
      "NEMO-NTI\t1.00\t\t0.75\t\t0.75\n",
      "N_wp\t\t0.75\t\t1.00\t\t0.94\n"
     ]
    }
   ],
   "source": [
    "produce_table(ds_dt)"
   ]
  },
  {
   "cell_type": "markdown",
   "id": "498d44ad-ac0c-4dca-8685-23eeddd9444c",
   "metadata": {},
   "source": [
    "## Based on Hadley data "
   ]
  },
  {
   "cell_type": "code",
   "execution_count": 16,
   "id": "ce8aed03-5a5f-4e46-8b18-f2643ffae95c",
   "metadata": {},
   "outputs": [],
   "source": [
    "ssth_all = (\n",
    "    xr.open_dataset('data/HadISST_sst.nc')\n",
    "    .sst[:,::-1,:]\n",
    "    .rename({'latitude':'lat', 'longitude':'lon'})\n",
    ")\n",
    "ssth_a = monthly_anomalies(\n",
    "    ssth_all\n",
    "    .where(ssth_all > -800)\n",
    "    .sel(**tpart)\n",
    "    .assign_coords({'lon': (ssth_all.lon + 360) % 360.})\n",
    "    .reindex(lon=np.arange(360)+0.5)\n",
    ")"
   ]
  },
  {
   "cell_type": "code",
   "execution_count": 17,
   "id": "407a6d20-048a-401f-abce-d0415e3009aa",
   "metadata": {},
   "outputs": [],
   "source": [
    "h_n3 = ssth_a.sel(**nino3_region).mean(('lon', 'lat'))\n",
    "h_n4 = ssth_a.sel(**nino4_region).mean(('lon', 'lat'))"
   ]
  },
  {
   "cell_type": "markdown",
   "id": "b80fd745-86bc-4dd2-be2d-67c4ef86712b",
   "metadata": {},
   "source": [
    "### From Ashok2007 EMI: CP "
   ]
  },
  {
   "cell_type": "code",
   "execution_count": 18,
   "id": "43f08723-eff0-4a4f-b902-f536c9adb9c2",
   "metadata": {},
   "outputs": [],
   "source": [
    "h_aindex = ssth_a.sel(**a_region).mean(('lon', 'lat'))\n",
    "h_bindex = ssth_a.sel(**b_region).mean(('lon', 'lat'))\n",
    "h_cindex = ssth_a.sel(**c_region).mean(('lon', 'lat'))\n",
    "h_emi = h_aindex - 0.5 * h_bindex - 0.5 * h_cindex"
   ]
  },
  {
   "cell_type": "markdown",
   "id": "3f5044a9-6d39-4e3c-8979-2a8d53867b1d",
   "metadata": {},
   "source": [
    "#### From Ren and Jin(2010) ict:EP / iwp:CP "
   ]
  },
  {
   "cell_type": "code",
   "execution_count": 19,
   "id": "22e0aa67-35e2-456e-8883-49eb45553450",
   "metadata": {},
   "outputs": [],
   "source": [
    "h_aa = h_n3 * h_n4\n",
    "h_alpha = np.where(h_aa > 0, 0.4, 0)\n",
    "h_Nwp = h_n4 - h_alpha * h_n3"
   ]
  },
  {
   "cell_type": "markdown",
   "id": "25b36a52-27ca-41a9-ac04-f4bce4df1ef6",
   "metadata": {},
   "source": [
    "### detrend and correlation"
   ]
  },
  {
   "cell_type": "code",
   "execution_count": 20,
   "id": "23ded780-c5ad-421b-8fd3-4158a1980d6c",
   "metadata": {},
   "outputs": [],
   "source": [
    "h_ds = xr.Dataset({\"n4\": h_n4, \"emi\": h_emi, \"Nwp\": h_Nwp, \"nti\": nti_n4}).compute()"
   ]
  },
  {
   "cell_type": "code",
   "execution_count": 21,
   "id": "d287fd41-4492-4610-99eb-add195f231cd",
   "metadata": {},
   "outputs": [],
   "source": [
    "h_ds_dt = detrend(h_ds)"
   ]
  },
  {
   "cell_type": "code",
   "execution_count": 22,
   "id": "7976a155-45f2-45e3-96f4-8696585ec878",
   "metadata": {},
   "outputs": [
    {
     "name": "stdout",
     "output_type": "stream",
     "text": [
      "\t\tNEMO-NTI\tN_wp\t\tEMI\t\n",
      "SST\t\t0.86\t\t0.85\t\t0.77\n",
      "NEMO-NTI\t1.00\t\t0.74\t\t0.62\n",
      "N_wp\t\t0.74\t\t1.00\t\t0.93\n"
     ]
    }
   ],
   "source": [
    "produce_table(h_ds_dt)"
   ]
  },
  {
   "cell_type": "markdown",
   "id": "914e5419-58b7-4466-add3-339e4107de67",
   "metadata": {},
   "source": [
    "#### Plot "
   ]
  },
  {
   "cell_type": "code",
   "execution_count": 23,
   "id": "e9d8dd38-d850-4c32-8e1a-6aa3dd63ebac",
   "metadata": {},
   "outputs": [],
   "source": [
    "nemo = xr.concat(\n",
    "    (ds_dt.n4,ds_dt.emi,ds_dt.Nwp,ds_dt.nti),\n",
    "    dim=xr.DataArray(\n",
    "        [\"sst\", \"emi\",\"Nwp\", \"nti\"],\n",
    "        dims=(\"variable\",),\n",
    "        name=\"variable\")\n",
    ").rename(\"nemo\").compute()"
   ]
  },
  {
   "cell_type": "code",
   "execution_count": 24,
   "id": "15889f79-8963-4563-8de2-fa0d964a07da",
   "metadata": {},
   "outputs": [],
   "source": [
    "nemo2 = xr.concat(\n",
    "    (ds_dt.n4,ds_dt.emi,ds_dt.Nwp,ds_dt.nti),\n",
    "    dim=xr.DataArray(\n",
    "        [\"sst\", \"emi\",\"Nwp\", \"nti\"],\n",
    "        dims=(\"variable2\",),\n",
    "        name=\"variable2\")\n",
    ").rename(\"nemo2\").compute()"
   ]
  },
  {
   "cell_type": "code",
   "execution_count": 25,
   "id": "90c60316-2e83-44b3-8eaf-5d495812d3eb",
   "metadata": {},
   "outputs": [
    {
     "data": {
      "text/plain": [
       "Text(0.5, 1.0, 'Correlation')"
      ]
     },
     "execution_count": 25,
     "metadata": {},
     "output_type": "execute_result"
    },
    {
     "data": {
      "image/png": "[encoded data removed]",
      "text/plain": [
       "<Figure size 432x288 with 2 Axes>"
      ]
     },
     "metadata": {
      "needs_background": "light"
     },
     "output_type": "display_data"
    }
   ],
   "source": [
    "xr.corr(nemo2,nemo, dim=\"time\").plot()\n",
    "plt.xticks([0, 1, 2, 3], [ \"sst\", \"emi\", \"Nwp\", \"nti\"]);\n",
    "plt.yticks([0, 1, 2, 3], [ \"sst\", \"emi\", \"Nwp\", \"nti\"]);\n",
    "plt.ylabel('')\n",
    "plt.xlabel('NEMO')\n",
    "plt.title('Correlation')"
   ]
  },
  {
   "cell_type": "code",
   "execution_count": 26,
   "id": "1206e4ed-c938-4de3-bdbc-22a7f2f456cb",
   "metadata": {},
   "outputs": [],
   "source": [
    "hadley = xr.concat(\n",
    "    (h_ds_dt.n4,h_ds_dt.emi,h_ds_dt.Nwp,ds_dt.nti),\n",
    "    dim=xr.DataArray(\n",
    "        [\"sst\", \"emi\",\"Nwp\", \"nti\"],\n",
    "        dims=(\"vari\",),\n",
    "        name=\"vari\")\n",
    ").rename(\"hadley\").compute()"
   ]
  },
  {
   "cell_type": "code",
   "execution_count": 27,
   "id": "0c2875d2-04e2-4fe9-a8dd-a556ab6e932b",
   "metadata": {},
   "outputs": [],
   "source": [
    "hadley2 = xr.concat(\n",
    "    (h_ds_dt.n4,h_ds_dt.emi,h_ds_dt.Nwp,ds_dt.nti),\n",
    "    dim=xr.DataArray(\n",
    "        [\"sst\", \"emi\",\"Nwp\", \"nti\"],\n",
    "        dims=(\"vari2\",),\n",
    "        name=\"vari2\")\n",
    ").rename(\"hadley2\").compute()"
   ]
  },
  {
   "cell_type": "code",
   "execution_count": 28,
   "id": "d9a1060c-4db7-4c6e-8914-d256a1c284f4",
   "metadata": {},
   "outputs": [
    {
     "data": {
      "text/plain": [
       "Text(0.5, 1.0, 'Correlation')"
      ]
     },
     "execution_count": 28,
     "metadata": {},
     "output_type": "execute_result"
    },
    {
     "data": {
      "image/png": "[encoded data removed]",
      "text/plain": [
       "<Figure size 432x288 with 2 Axes>"
      ]
     },
     "metadata": {
      "needs_background": "light"
     },
     "output_type": "display_data"
    }
   ],
   "source": [
    "xr.corr(hadley,hadley2, dim=\"time\").plot()\n",
    "plt.xticks([0, 1, 2, 3], [ \"sst\", \"emi\", \"Nwp\", \"nti\"]);\n",
    "plt.yticks([0, 1, 2, 3], [\"sst\", \"emi\", \"Nwp\", \"nti\"]);\n",
    "plt.ylabel('')\n",
    "plt.xlabel('Hadley')\n",
    "plt.title('Correlation')"
   ]
  },
  {
   "cell_type": "code",
   "execution_count": 29,
   "id": "537fb1ee-f4b9-4e92-bbe9-c2a1ba02b0f9",
   "metadata": {},
   "outputs": [
    {
     "data": {
      "text/plain": [
       "Text(0.5, 1.0, 'Correlation')"
      ]
     },
     "execution_count": 29,
     "metadata": {},
     "output_type": "execute_result"
    },
    {
     "data": {
      "image/png": "[encoded data removed]",
      "text/plain": [
       "<Figure size 432x288 with 2 Axes>"
      ]
     },
     "metadata": {
      "needs_background": "light"
     },
     "output_type": "display_data"
    }
   ],
   "source": [
    "xr.corr(hadley,hadley2, dim=\"time\").plot()\n",
    "plt.xticks([0, 1, 2, 3], [ \"sst\", \"emi\", \"Nwp\", \"nti\"]);\n",
    "plt.yticks([0, 1, 2, 3], [\"sst\", \"emi\", \"Nwp\", \"nti\"]);\n",
    "plt.ylabel('')\n",
    "plt.xlabel('Hadley')\n",
    "plt.title('Correlation')"
   ]
  }
 ],
 "metadata": {
  "kernelspec": {
   "display_name": "Python 3 (ipykernel)",
   "language": "python",
   "name": "python3"
  },
  "language_info": {
   "codemirror_mode": {
    "name": "ipython",
    "version": 3
   },
   "file_extension": ".py",
   "mimetype": "text/x-python",
   "name": "python",
   "nbconvert_exporter": "python",
   "pygments_lexer": "ipython3",
   "version": "3.8.13"
  }
 },
 "nbformat": 4,
 "nbformat_minor": 5
}
