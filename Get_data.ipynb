{
 "cells": [
  {
   "cell_type": "markdown",
   "id": "5f7f0b77-79b0-4174-bf09-0cdde9c055ac",
   "metadata": {},
   "source": [
    "# Download data from Zenodo"
   ]
  },
  {
   "cell_type": "code",
   "execution_count": 1,
   "id": "ec8c129b-d487-46c5-b636-197205d8e21c",
   "metadata": {},
   "outputs": [],
   "source": [
    "import requests"
   ]
  },
  {
   "cell_type": "markdown",
   "id": "fadfeaa4-7c1a-472b-83db-bfa460f1a4da",
   "metadata": {},
   "source": [
    "## Download Metadata"
   ]
  },
  {
   "cell_type": "code",
   "execution_count": 2,
   "id": "ae9aa68d-dfa6-4162-89e8-2247bf345dda",
   "metadata": {},
   "outputs": [],
   "source": [
    "zenodo_api_url = \"https://zenodo.org/api/records/6557396\"\n",
    "record = requests.get(zenodo_api_url).json()"
   ]
  },
  {
   "cell_type": "markdown",
   "id": "e6ecb084-05ff-4a48-abdd-e044278c4569",
   "metadata": {},
   "source": [
    "## Download datasets"
   ]
  },
  {
   "cell_type": "code",
   "execution_count": 3,
   "id": "489fbc5a-bc6f-4d11-bb1b-37809be7c3f6",
   "metadata": {},
   "outputs": [],
   "source": [
    "!mkdir -p data\n",
    "\n",
    "for f_rec in record['files']:\n",
    "    fname = f_rec['key']\n",
    "    \n",
    "    url = f_rec['links']['self']\n",
    "    response = requests.get(url)\n",
    "    with open('data/' + fname, mode='wb') as f_out:\n",
    "        f_out.write(response.content)"
   ]
  },
  {
   "cell_type": "markdown",
   "id": "137b4e8b-88fe-4dbd-9ac0-e3e064b5df17",
   "metadata": {},
   "source": [
    "## Untar tarballs"
   ]
  },
  {
   "cell_type": "code",
   "execution_count": 6,
   "id": "f8c33e01-dbe9-42a8-913e-885a132822f6",
   "metadata": {},
   "outputs": [],
   "source": [
    "!cd data && for f in $(ls *.tar); do tar -xf $f && rm $f; done"
   ]
  },
  {
   "cell_type": "code",
   "execution_count": null,
   "id": "cd76920f-5f1f-4157-9630-9d6e64ce5fb1",
   "metadata": {},
   "outputs": [],
   "source": []
  }
 ],
 "metadata": {
  "kernelspec": {
   "display_name": "Python 3 (ipykernel)",
   "language": "python",
   "name": "python3"
  },
  "language_info": {
   "codemirror_mode": {
    "name": "ipython",
    "version": 3
   },
   "file_extension": ".py",
   "mimetype": "text/x-python",
   "name": "python",
   "nbconvert_exporter": "python",
   "pygments_lexer": "ipython3",
   "version": "3.8.13"
  }
 },
 "nbformat": 4,
 "nbformat_minor": 5
}
