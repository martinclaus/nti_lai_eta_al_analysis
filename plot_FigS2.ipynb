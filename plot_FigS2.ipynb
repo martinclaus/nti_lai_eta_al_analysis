{
 "cells": [
  {
   "cell_type": "code",
   "execution_count": 1,
   "id": "b8aa347f-54ca-4af9-80f3-cbe5fd2ca3d9",
   "metadata": {},
   "outputs": [],
   "source": [
    "import xarray as xr\n",
    "import matplotlib.pyplot as plt\n",
    "from cartopy.mpl.ticker import LongitudeFormatter,LatitudeFormatter"
   ]
  },
  {
   "cell_type": "code",
   "execution_count": 2,
   "id": "1b65d9de-f8cd-4f2d-9381-5589f9c413b6",
   "metadata": {},
   "outputs": [],
   "source": [
    "ds = xr.open_zarr('data_fig2S.zarr/')"
   ]
  },
  {
   "cell_type": "code",
   "execution_count": 3,
   "id": "06695efa-a225-400d-b7c7-7ff2841a189c",
   "metadata": {},
   "outputs": [
    {
     "ename": "ValueError",
     "evalue": "Object has inconsistent chunks along dimension lat. This can be fixed by calling unify_chunks().",
     "output_type": "error",
     "traceback": [
      "\u001b[0;31m---------------------------------------------------------------------------\u001b[0m",
      "\u001b[0;31mValueError\u001b[0m                                Traceback (most recent call last)",
      "Input \u001b[0;32mIn [3]\u001b[0m, in \u001b[0;36m<cell line: 9>\u001b[0;34m()\u001b[0m\n\u001b[1;32m      7\u001b[0m ax1\u001b[38;5;241m.\u001b[39mxaxis\u001b[38;5;241m.\u001b[39mset_major_formatter(LongitudeFormatter())\n\u001b[1;32m      8\u001b[0m ax1\u001b[38;5;241m.\u001b[39myaxis\u001b[38;5;241m.\u001b[39mset_major_formatter(LatitudeFormatter())\n\u001b[0;32m----> 9\u001b[0m \u001b[43mxr\u001b[49m\u001b[38;5;241;43m.\u001b[39;49m\u001b[43mcorr\u001b[49m\u001b[43m(\u001b[49m\u001b[43mds\u001b[49m\u001b[38;5;241;43m.\u001b[39;49m\u001b[43mssh_nemo\u001b[49m\u001b[43m,\u001b[49m\u001b[43mds\u001b[49m\u001b[38;5;241;43m.\u001b[39;49m\u001b[43mssh_lin\u001b[49m\u001b[43m,\u001b[49m\u001b[43mdim\u001b[49m\u001b[38;5;241;43m=\u001b[39;49m\u001b[38;5;124;43m'\u001b[39;49m\u001b[38;5;124;43mtime\u001b[39;49m\u001b[38;5;124;43m'\u001b[39;49m\u001b[43m)\u001b[49m\u001b[38;5;241m.\u001b[39mplot(vmin\u001b[38;5;241m=\u001b[39m\u001b[38;5;241m0\u001b[39m,vmax\u001b[38;5;241m=\u001b[39m\u001b[38;5;241m1\u001b[39m, rasterized\u001b[38;5;241m=\u001b[39m\u001b[38;5;28;01mTrue\u001b[39;00m)\n\u001b[1;32m     10\u001b[0m plt\u001b[38;5;241m.\u001b[39mtitle(\u001b[38;5;124m\"\u001b[39m\u001b[38;5;124m(a) Correlation between linear SSH and NEMO SSH\u001b[39m\u001b[38;5;124m\"\u001b[39m,loc\u001b[38;5;241m=\u001b[39m\u001b[38;5;124m'\u001b[39m\u001b[38;5;124mleft\u001b[39m\u001b[38;5;124m'\u001b[39m)\n\u001b[1;32m     11\u001b[0m plt\u001b[38;5;241m.\u001b[39mtitle(\u001b[38;5;124m'\u001b[39m\u001b[38;5;124m'\u001b[39m)\n",
      "File \u001b[0;32m~/mambaforge/envs/nti/lib/python3.8/site-packages/xarray/core/computation.py:1336\u001b[0m, in \u001b[0;36mcorr\u001b[0;34m(da_a, da_b, dim)\u001b[0m\n\u001b[1;32m   1330\u001b[0m \u001b[38;5;28;01mif\u001b[39;00m \u001b[38;5;28many\u001b[39m(\u001b[38;5;129;01mnot\u001b[39;00m \u001b[38;5;28misinstance\u001b[39m(arr, DataArray) \u001b[38;5;28;01mfor\u001b[39;00m arr \u001b[38;5;129;01min\u001b[39;00m [da_a, da_b]):\n\u001b[1;32m   1331\u001b[0m     \u001b[38;5;28;01mraise\u001b[39;00m \u001b[38;5;167;01mTypeError\u001b[39;00m(\n\u001b[1;32m   1332\u001b[0m         \u001b[38;5;124m\"\u001b[39m\u001b[38;5;124mOnly xr.DataArray is supported.\u001b[39m\u001b[38;5;124m\"\u001b[39m\n\u001b[1;32m   1333\u001b[0m         \u001b[38;5;124m\"\u001b[39m\u001b[38;5;124mGiven \u001b[39m\u001b[38;5;132;01m{}\u001b[39;00m\u001b[38;5;124m.\u001b[39m\u001b[38;5;124m\"\u001b[39m\u001b[38;5;241m.\u001b[39mformat([\u001b[38;5;28mtype\u001b[39m(arr) \u001b[38;5;28;01mfor\u001b[39;00m arr \u001b[38;5;129;01min\u001b[39;00m [da_a, da_b]])\n\u001b[1;32m   1334\u001b[0m     )\n\u001b[0;32m-> 1336\u001b[0m \u001b[38;5;28;01mreturn\u001b[39;00m \u001b[43m_cov_corr\u001b[49m\u001b[43m(\u001b[49m\u001b[43mda_a\u001b[49m\u001b[43m,\u001b[49m\u001b[43m \u001b[49m\u001b[43mda_b\u001b[49m\u001b[43m,\u001b[49m\u001b[43m \u001b[49m\u001b[43mdim\u001b[49m\u001b[38;5;241;43m=\u001b[39;49m\u001b[43mdim\u001b[49m\u001b[43m,\u001b[49m\u001b[43m \u001b[49m\u001b[43mmethod\u001b[49m\u001b[38;5;241;43m=\u001b[39;49m\u001b[38;5;124;43m\"\u001b[39;49m\u001b[38;5;124;43mcorr\u001b[39;49m\u001b[38;5;124;43m\"\u001b[39;49m\u001b[43m)\u001b[49m\n",
      "File \u001b[0;32m~/mambaforge/envs/nti/lib/python3.8/site-packages/xarray/core/computation.py:1364\u001b[0m, in \u001b[0;36m_cov_corr\u001b[0;34m(da_a, da_b, dim, ddof, method)\u001b[0m\n\u001b[1;32m   1361\u001b[0m     \u001b[38;5;28;01melse\u001b[39;00m:\n\u001b[1;32m   1362\u001b[0m         \u001b[38;5;28;01mreturn\u001b[39;00m da\n\u001b[0;32m-> 1364\u001b[0m da_a \u001b[38;5;241m=\u001b[39m \u001b[43mda_a\u001b[49m\u001b[38;5;241;43m.\u001b[39;49m\u001b[43mmap_blocks\u001b[49m\u001b[43m(\u001b[49m\u001b[43m_get_valid_values\u001b[49m\u001b[43m,\u001b[49m\u001b[43m \u001b[49m\u001b[43margs\u001b[49m\u001b[38;5;241;43m=\u001b[39;49m\u001b[43m[\u001b[49m\u001b[43mda_b\u001b[49m\u001b[43m]\u001b[49m\u001b[43m)\u001b[49m\n\u001b[1;32m   1365\u001b[0m da_b \u001b[38;5;241m=\u001b[39m da_b\u001b[38;5;241m.\u001b[39mmap_blocks(_get_valid_values, args\u001b[38;5;241m=\u001b[39m[da_a])\n\u001b[1;32m   1367\u001b[0m \u001b[38;5;66;03m# 3. Detrend along the given dim\u001b[39;00m\n",
      "File \u001b[0;32m~/mambaforge/envs/nti/lib/python3.8/site-packages/xarray/core/dataarray.py:3844\u001b[0m, in \u001b[0;36mDataArray.map_blocks\u001b[0;34m(self, func, args, kwargs, template)\u001b[0m\n\u001b[1;32m   3749\u001b[0m \u001b[38;5;124;03m\"\"\"\u001b[39;00m\n\u001b[1;32m   3750\u001b[0m \u001b[38;5;124;03mApply a function to each block of this DataArray.\u001b[39;00m\n\u001b[1;32m   3751\u001b[0m \n\u001b[0;32m   (...)\u001b[0m\n\u001b[1;32m   3840\u001b[0m \u001b[38;5;124;03m    month    (time) int64 dask.array<chunksize=(24,), meta=np.ndarray>\u001b[39;00m\n\u001b[1;32m   3841\u001b[0m \u001b[38;5;124;03m\"\"\"\u001b[39;00m\n\u001b[1;32m   3842\u001b[0m \u001b[38;5;28;01mfrom\u001b[39;00m \u001b[38;5;21;01m.\u001b[39;00m\u001b[38;5;21;01mparallel\u001b[39;00m \u001b[38;5;28;01mimport\u001b[39;00m map_blocks\n\u001b[0;32m-> 3844\u001b[0m \u001b[38;5;28;01mreturn\u001b[39;00m \u001b[43mmap_blocks\u001b[49m\u001b[43m(\u001b[49m\u001b[43mfunc\u001b[49m\u001b[43m,\u001b[49m\u001b[43m \u001b[49m\u001b[38;5;28;43mself\u001b[39;49m\u001b[43m,\u001b[49m\u001b[43m \u001b[49m\u001b[43margs\u001b[49m\u001b[43m,\u001b[49m\u001b[43m \u001b[49m\u001b[43mkwargs\u001b[49m\u001b[43m,\u001b[49m\u001b[43m \u001b[49m\u001b[43mtemplate\u001b[49m\u001b[43m)\u001b[49m\n",
      "File \u001b[0;32m~/mambaforge/envs/nti/lib/python3.8/site-packages/xarray/core/parallel.py:364\u001b[0m, in \u001b[0;36mmap_blocks\u001b[0;34m(func, obj, args, kwargs, template)\u001b[0m\n\u001b[1;32m    359\u001b[0m _, npargs \u001b[38;5;241m=\u001b[39m unzip(\n\u001b[1;32m    360\u001b[0m     \u001b[38;5;28msorted\u001b[39m(\u001b[38;5;28mlist\u001b[39m(\u001b[38;5;28mzip\u001b[39m(xarray_indices, xarray_objs)) \u001b[38;5;241m+\u001b[39m others, key\u001b[38;5;241m=\u001b[39m\u001b[38;5;28;01mlambda\u001b[39;00m x: x[\u001b[38;5;241m0\u001b[39m])\n\u001b[1;32m    361\u001b[0m )\n\u001b[1;32m    363\u001b[0m \u001b[38;5;66;03m# check that chunk sizes are compatible\u001b[39;00m\n\u001b[0;32m--> 364\u001b[0m input_chunks \u001b[38;5;241m=\u001b[39m \u001b[38;5;28mdict\u001b[39m(\u001b[43mnpargs\u001b[49m\u001b[43m[\u001b[49m\u001b[38;5;241;43m0\u001b[39;49m\u001b[43m]\u001b[49m\u001b[38;5;241;43m.\u001b[39;49m\u001b[43mchunks\u001b[49m)\n\u001b[1;32m    365\u001b[0m input_indexes \u001b[38;5;241m=\u001b[39m \u001b[38;5;28mdict\u001b[39m(npargs[\u001b[38;5;241m0\u001b[39m]\u001b[38;5;241m.\u001b[39mxindexes)\n\u001b[1;32m    366\u001b[0m \u001b[38;5;28;01mfor\u001b[39;00m arg \u001b[38;5;129;01min\u001b[39;00m xarray_objs[\u001b[38;5;241m1\u001b[39m:]:\n",
      "File \u001b[0;32m~/mambaforge/envs/nti/lib/python3.8/site-packages/xarray/core/dataset.py:2111\u001b[0m, in \u001b[0;36mDataset.chunks\u001b[0;34m(self)\u001b[0m\n\u001b[1;32m   2096\u001b[0m \u001b[38;5;129m@property\u001b[39m\n\u001b[1;32m   2097\u001b[0m \u001b[38;5;28;01mdef\u001b[39;00m \u001b[38;5;21mchunks\u001b[39m(\u001b[38;5;28mself\u001b[39m) \u001b[38;5;241m-\u001b[39m\u001b[38;5;241m>\u001b[39m Mapping[Hashable, Tuple[\u001b[38;5;28mint\u001b[39m, \u001b[38;5;241m.\u001b[39m\u001b[38;5;241m.\u001b[39m\u001b[38;5;241m.\u001b[39m]]:\n\u001b[1;32m   2098\u001b[0m     \u001b[38;5;124;03m\"\"\"\u001b[39;00m\n\u001b[1;32m   2099\u001b[0m \u001b[38;5;124;03m    Mapping from dimension names to block lengths for this dataset's data, or None if\u001b[39;00m\n\u001b[1;32m   2100\u001b[0m \u001b[38;5;124;03m    the underlying data is not a dask array.\u001b[39;00m\n\u001b[0;32m   (...)\u001b[0m\n\u001b[1;32m   2109\u001b[0m \u001b[38;5;124;03m    xarray.unify_chunks\u001b[39;00m\n\u001b[1;32m   2110\u001b[0m \u001b[38;5;124;03m    \"\"\"\u001b[39;00m\n\u001b[0;32m-> 2111\u001b[0m     \u001b[38;5;28;01mreturn\u001b[39;00m \u001b[43mget_chunksizes\u001b[49m\u001b[43m(\u001b[49m\u001b[38;5;28;43mself\u001b[39;49m\u001b[38;5;241;43m.\u001b[39;49m\u001b[43mvariables\u001b[49m\u001b[38;5;241;43m.\u001b[39;49m\u001b[43mvalues\u001b[49m\u001b[43m(\u001b[49m\u001b[43m)\u001b[49m\u001b[43m)\u001b[49m\n",
      "File \u001b[0;32m~/mambaforge/envs/nti/lib/python3.8/site-packages/xarray/core/common.py:1825\u001b[0m, in \u001b[0;36mget_chunksizes\u001b[0;34m(variables)\u001b[0m\n\u001b[1;32m   1823\u001b[0m         \u001b[38;5;28;01mfor\u001b[39;00m dim, c \u001b[38;5;129;01min\u001b[39;00m v\u001b[38;5;241m.\u001b[39mchunksizes\u001b[38;5;241m.\u001b[39mitems():\n\u001b[1;32m   1824\u001b[0m             \u001b[38;5;28;01mif\u001b[39;00m dim \u001b[38;5;129;01min\u001b[39;00m chunks \u001b[38;5;129;01mand\u001b[39;00m c \u001b[38;5;241m!=\u001b[39m chunks[dim]:\n\u001b[0;32m-> 1825\u001b[0m                 \u001b[38;5;28;01mraise\u001b[39;00m \u001b[38;5;167;01mValueError\u001b[39;00m(\n\u001b[1;32m   1826\u001b[0m                     \u001b[38;5;124mf\u001b[39m\u001b[38;5;124m\"\u001b[39m\u001b[38;5;124mObject has inconsistent chunks along dimension \u001b[39m\u001b[38;5;132;01m{\u001b[39;00mdim\u001b[38;5;132;01m}\u001b[39;00m\u001b[38;5;124m. \u001b[39m\u001b[38;5;124m\"\u001b[39m\n\u001b[1;32m   1827\u001b[0m                     \u001b[38;5;124m\"\u001b[39m\u001b[38;5;124mThis can be fixed by calling unify_chunks().\u001b[39m\u001b[38;5;124m\"\u001b[39m\n\u001b[1;32m   1828\u001b[0m                 )\n\u001b[1;32m   1829\u001b[0m             chunks[dim] \u001b[38;5;241m=\u001b[39m c\n\u001b[1;32m   1830\u001b[0m \u001b[38;5;28;01mreturn\u001b[39;00m Frozen(chunks)\n",
      "\u001b[0;31mValueError\u001b[0m: Object has inconsistent chunks along dimension lat. This can be fixed by calling unify_chunks()."
     ]
    },
    {
     "data": {
      "image/png": "[encoded data removed]",
      "text/plain": [
       "<Figure size 396x396 with 1 Axes>"
      ]
     },
     "metadata": {
      "needs_background": "light"
     },
     "output_type": "display_data"
    }
   ],
   "source": [
    "fig = plt.figure(figsize=(5.5,5.5))\n",
    "plt.rcParams['font.size'] =8\n",
    "from matplotlib import rc\n",
    "rc('font',**{'family':'sans-serif','sans-serif':['Helvetica']})\n",
    "\n",
    "ax1 = fig.add_subplot(211)\n",
    "ax1.xaxis.set_major_formatter(LongitudeFormatter())\n",
    "ax1.yaxis.set_major_formatter(LatitudeFormatter())\n",
    "xr.corr(ds.ssh_nemo,ds.ssh_lin,dim='time').plot(vmin=0,vmax=1, rasterized=True)\n",
    "plt.title(\"(a) Correlation between linear SSH and NEMO SSH\",loc='left')\n",
    "plt.title('')\n",
    "plt.grid(color='grey',linestyle = ':')\n",
    "plt.ylabel(\"latitude\");\n",
    "plt.xlabel('longitude');\n",
    "\n",
    "ax2 = fig.add_subplot(212)\n",
    "ax2.xaxis.set_major_formatter(LongitudeFormatter())\n",
    "ax2.yaxis.set_major_formatter(LatitudeFormatter())\n",
    "xr.corr(ds.ssh_lin,ds.d20_nemo,dim='time').plot(vmin= 0,vmax=1, rasterized=True) #,cmap=plt.cm.YlOrBr\n",
    "plt.title(\"(b) Correlation between linear SSH and NEMO D20\",loc='left')\n",
    "plt.title('')\n",
    "plt.ylabel(\"latitude\");\n",
    "plt.xlabel('longitude');\n",
    "\n",
    "plt.grid(color='grey',linestyle = ':')\n",
    "plt.subplots_adjust(wspace =0, hspace = 0.35)\n",
    "plt.savefig(\"figS2.pdf\", format=\"pdf\", bbox_inches=\"tight\")\n",
    "plt.show()"
   ]
  },
  {
   "cell_type": "code",
   "execution_count": null,
   "id": "5bf538ae-cbc1-40ba-b266-952685e8d11e",
   "metadata": {},
   "outputs": [],
   "source": []
  }
 ],
 "metadata": {
  "kernelspec": {
   "display_name": "Python 3 (ipykernel)",
   "language": "python",
   "name": "python3"
  },
  "language_info": {
   "codemirror_mode": {
    "name": "ipython",
    "version": 3
   },
   "file_extension": ".py",
   "mimetype": "text/x-python",
   "name": "python",
   "nbconvert_exporter": "python",
   "pygments_lexer": "ipython3",
   "version": "3.8.13"
  }
 },
 "nbformat": 4,
 "nbformat_minor": 5
}
